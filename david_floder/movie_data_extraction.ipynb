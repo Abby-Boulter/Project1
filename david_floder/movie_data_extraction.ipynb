{
 "cells": [
  {
   "cell_type": "code",
   "execution_count": 9,
   "id": "caae4dba",
   "metadata": {},
   "outputs": [
    {
     "name": "stdout",
     "output_type": "stream",
     "text": [
      "Aliens is an Action, Adventure, Sci-Fi movie with a IMDB sorec of 8.4, a Meta score of 84, and made 85160248 at the box office\n",
      "---------------------\n",
      "Sing is an Animation, Comedy, Family movie with a IMDB sorec of 7.1, a Meta score of 59, and made 270578425 at the box office\n",
      "---------------------\n",
      "Moana is an Animation, Adventure, Comedy movie with a IMDB sorec of 7.6, a Meta score of 81, and made 248757044 at the box office\n",
      "---------------------\n",
      "oihihi not found\n",
      "---------------------\n",
      "John Wick: chapter 2 is an Action, Crime, Thriller movie with a IMDB sorec of 7.4, a Meta score of 75, and made 92029184 at the box office\n",
      "---------------------\n",
      "Monster's Ball is an Drama, Romance movie with a IMDB sorec of 7.1, a Meta score of 69, and made 31273922 at the box office\n",
      "---------------------\n",
      "Forrest Gump is an Drama, Romance movie with a IMDB sorec of 8.8, a Meta score of 82, and made 330455270 at the box office\n",
      "---------------------\n",
      "Top Gun is an Action, Drama movie with a IMDB sorec of 6.9, a Meta score of 50, and made 180258178 at the box office\n",
      "---------------------\n",
      "The Matrix is an Action, Sci-Fi movie with a IMDB sorec of 8.7, a Meta score of 73, and made 172076928 at the box office\n",
      "---------------------\n",
      "Avatar is an Action, Adventure, Fantasy movie with a IMDB sorec of 7.9, a Meta score of 83, and made 785221649 at the box office\n",
      "---------------------\n",
      "American Beauty is an Drama movie with a IMDB sorec of 8.4, a Meta score of 84, and made 130096601 at the box office\n",
      "---------------------\n",
      "The Terminal is an Comedy, Drama, Romance movie with a IMDB sorec of 7.4, a Meta score of 55, and made 77872883 at the box office\n",
      "---------------------\n",
      "Bird Cage not found\n",
      "---------------------\n",
      "Jurassic World is an Action, Adventure, Sci-Fi movie with a IMDB sorec of 6.9, a Meta score of 59, and made 653406625 at the box office\n",
      "---------------------\n",
      "Black Panther: Wakanda Forever not found\n",
      "---------------------\n",
      "The Secret Life of Pets is an Animation, Adventure, Comedy movie with a IMDB sorec of 6.5, a Meta score of 61, and made 368384330 at the box office\n",
      "---------------------\n",
      "Transformers: Dark of the Moon is an Action, Adventure, Sci-Fi movie with a IMDB sorec of 6.2, a Meta score of 42, and made 352390543 at the box office\n",
      "---------------------\n",
      "Frozen is an Animation, Adventure, Comedy movie with a IMDB sorec of 7.4, a Meta score of 75, and made 400953009 at the box office\n",
      "---------------------\n",
      "Toy Story 4 is an Animation, Adventure, Comedy movie with a IMDB sorec of 7.7, a Meta score of 84, and made 434038008 at the box office\n",
      "---------------------\n",
      "The Hunger Games is an Action, Adventure, Sci-Fi movie with a IMDB sorec of 7.2, a Meta score of 68, and made 408010692 at the box office\n",
      "---------------------\n",
      "A THOUSAND WORDS is an Comedy, Drama, Fantasy movie with a IMDB sorec of 5.8, a Meta score of 26, and made 18450127 at the box office\n",
      "---------------------\n",
      "GOTTI is an Biography, Crime, Drama movie with a IMDB sorec of 4.7, a Meta score of 24, and made 4343227 at the box office\n",
      "---------------------\n",
      "THE LAST DAYS OF AMERICAN CRIME not found\n",
      "---------------------\n",
      "THE DISAPPOINTMENTS ROOM is an Drama, Horror, Thriller movie with a IMDB sorec of 3.9, a Meta score of 31, and made 2423468 at the box office\n",
      "---------------------\n",
      "MAX STEEL is an Action, Adventure, Fantasy movie with a IMDB sorec of 4.6, a Meta score of 22, and made 3818664 at the box office\n",
      "---------------------\n"
     ]
    }
   ],
   "source": [
    "# Dependencies\n",
    "import pandas as pd\n",
    "import requests\n",
    "import matplotlib.pyplot as plt\n",
    "api_key = \"f14b5199\"\n",
    "\n",
    "url = \"http://www.omdbapi.com/?apikey=\" + api_key + \"&t=\"\n",
    "\n",
    "movies = [\"Aliens\", \"Sing\", \"Moana\",\"oihihi\",\"John Wick: chapter 2\",\"Monster's Ball\",\"Forrest Gump\",\"Top Gun\",\"The Matrix\",\"Avatar\",\"American Beauty\",\"The Terminal\",\"Bird Cage\",\"Jurassic World\",\"Black Panther: Wakanda Forever\",\"The Secret Life of Pets\",\"Transformers: Dark of the Moon\",\"Frozen\",\"Toy Story 4\",\"The Hunger Games\",\"A THOUSAND WORDS\",\"GOTTI\",\"THE LAST DAYS OF AMERICAN CRIME\",\"THE DISAPPOINTMENTS ROOM\",\"MAX STEEL\"]\n",
    "\n",
    "responses = []\n",
    "meta_score = []\n",
    "imdb_score = []\n",
    "boxoffice = []\n",
    "genre = []\n",
    "\n",
    "# Make a request to the OMDb API for each movie in the list.\n",
    "for movie in movies:\n",
    "    movie_data = requests.get(url + movie).json()\n",
    "   \n",
    "    try:\n",
    "        mscore = movie_data[\"Metascore\"]\n",
    "        iscore = movie_data[\"imdbRating\"]\n",
    "        boffice = int((movie_data[\"BoxOffice\"].replace('$', '')).replace(',', ''))\n",
    "        mtype = movie_data[\"Genre\"]\n",
    "        print(f\"{movie} is an {mtype} movie with a IMDB sorec of {iscore}, a Meta score of {mscore}, and made {boffice} at the box office\")\n",
    "        print(\"---------------------\")\n",
    "        meta_score.append(mscore)\n",
    "        imdb_score.append(iscore)\n",
    "        boxoffice.append(boffice)\n",
    "        genre.append(mtype)\n",
    "    except:\n",
    "        print(f\"{movie} not found\")\n",
    "        print(\"---------------------\")\n",
    "        pass\n",
    "   \n"
   ]
  },
  {
   "cell_type": "code",
   "execution_count": 12,
   "id": "69c03498",
   "metadata": {},
   "outputs": [
    {
     "data": {
      "text/plain": [
       "<matplotlib.collections.PathCollection at 0x1aa020c5460>"
      ]
     },
     "execution_count": 12,
     "metadata": {},
     "output_type": "execute_result"
    },
    {
     "data": {
      "image/png": "[encoded data removed]",
      "text/plain": [
       "<Figure size 640x480 with 1 Axes>"
      ]
     },
     "metadata": {},
     "output_type": "display_data"
    }
   ],
   "source": [
    "#IMDB Score vs Block Office Success\n",
    "#Create dataframe with sorted IMDB scores\n",
    "per_IMDB_score = pd.DataFrame({\"IMDB Score\":imdb_score,\"Box Office Earnings\":boxoffice})\n",
    "sorted_IMBD_score = per_IMDB_score.sort_values(\"IMDB Score\", ascending = True)\n",
    "sorted_IMBD_score\n",
    "\n",
    "#Plot IMDB scores vs earnings\n",
    "plt.scatter(sorted_IMBD_score.iloc[:,0],sorted_IMBD_score.iloc[:,1],marker = \"o\", color = \"red\")"
   ]
  },
  {
   "cell_type": "code",
   "execution_count": 13,
   "id": "db3b2c3b",
   "metadata": {},
   "outputs": [
    {
     "data": {
      "text/plain": [
       "['Action, Adventure, Sci-Fi',\n",
       " 'Animation, Comedy, Family',\n",
       " 'Animation, Adventure, Comedy',\n",
       " 'Action, Crime, Thriller',\n",
       " 'Drama, Romance',\n",
       " 'Drama, Romance',\n",
       " 'Action, Drama',\n",
       " 'Action, Sci-Fi',\n",
       " 'Action, Adventure, Fantasy',\n",
       " 'Drama',\n",
       " 'Comedy, Drama, Romance',\n",
       " 'Action, Adventure, Sci-Fi',\n",
       " 'Animation, Adventure, Comedy',\n",
       " 'Action, Adventure, Sci-Fi',\n",
       " 'Animation, Adventure, Comedy',\n",
       " 'Animation, Adventure, Comedy',\n",
       " 'Action, Adventure, Sci-Fi',\n",
       " 'Comedy, Drama, Fantasy',\n",
       " 'Biography, Crime, Drama',\n",
       " 'Drama, Horror, Thriller',\n",
       " 'Action, Adventure, Fantasy']"
      ]
     },
     "execution_count": 13,
     "metadata": {},
     "output_type": "execute_result"
    }
   ],
   "source": [
    "genre"
   ]
  },
  {
   "cell_type": "code",
   "execution_count": null,
   "id": "04f61ac6",
   "metadata": {},
   "outputs": [],
   "source": []
  }
 ],
 "metadata": {
  "kernelspec": {
   "display_name": "Python 3 (ipykernel)",
   "language": "python",
   "name": "python3"
  },
  "language_info": {
   "codemirror_mode": {
    "name": "ipython",
    "version": 3
   },
   "file_extension": ".py",
   "mimetype": "text/x-python",
   "name": "python",
   "nbconvert_exporter": "python",
   "pygments_lexer": "ipython3",
   "version": "3.9.13"
  }
 },
 "nbformat": 4,
 "nbformat_minor": 5
}
