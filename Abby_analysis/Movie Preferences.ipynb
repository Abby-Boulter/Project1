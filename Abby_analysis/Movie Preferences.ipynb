{
 "cells": [
  {
   "cell_type": "markdown",
   "id": "2a7b1804",
   "metadata": {},
   "source": [
    "## Project 1: Movie Preferences"
   ]
  },
  {
   "cell_type": "code",
   "execution_count": null,
   "id": "e0bd4437",
   "metadata": {},
   "outputs": [],
   "source": [
    "# Dependencies\n",
    "import csv\n",
    "import os\n",
    "import pandas as pd\n",
    "import requests\n",
    "import matplotlib.pyplot as plt\n",
    "import scipy.stats as st\n",
    "import json\n",
    "from pprint import pprint\n",
    "from config import api_key"
   ]
  },
  {
   "cell_type": "code",
   "execution_count": null,
   "id": "d55b34cf",
   "metadata": {},
   "outputs": [],
   "source": [
    "movie2019_path = os.path.join(\"../data/movie_title_2019.csv\")\n",
    "\n",
    "titles_2019 = []\n",
    "with open(movie2019_path) as file2019:\n",
    "    reader2019 = csv.reader(file2019, delimiter=\",\")\n",
    "    print(reader2019)\n",
    "    header2019 = next(reader2019)\n",
    "    \n",
    "    for title in reader2019:\n",
    "        titles_2019.append(title[1])\n",
    "        print(title[1])"
   ]
  },
  {
   "cell_type": "code",
   "execution_count": null,
   "id": "1daa7353",
   "metadata": {},
   "outputs": [],
   "source": [
    "len(titles_2019)"
   ]
  },
  {
   "cell_type": "code",
   "execution_count": null,
   "id": "c6d2d1bc",
   "metadata": {},
   "outputs": [],
   "source": [
    "url = \"http://www.omdbapi.com/?apikey=\" + api_key + \"&t=\"\n",
    "\n",
    "\n",
    "responses = []\n",
    "meta_score = []\n",
    "imdb_score = []\n",
    "boxoffice = []\n",
    "genre = []\n",
    "\n",
    "# Make a request to the OMDb API for each movie in the list.\n",
    "for title in titles_2019:\n",
    "    movie_data = requests.get(url + title).json()\n",
    "   \n",
    "    try:\n",
    "        mscore = float(movie_data[\"Metascore\"])\n",
    "        iscore = float(movie_data[\"imdbRating\"])\n",
    "        boffice = float((movie_data[\"BoxOffice\"].replace('$', '')).replace(',', ''))\n",
    "        mtype = movie_data[\"Genre\"]\n",
    "        #print(f\"{movie} is an {mtype} movie with a IMDB sorec of {iscore}, a Meta score of {mscore}, and made {boffice} at the box office\")\n",
    "        print(\"---------------------\")\n",
    "        meta_score.append(mscore)\n",
    "        imdb_score.append(iscore)\n",
    "        boxoffice.append(boffice)\n",
    "        genre.append(mtype)\n",
    "    except:\n",
    "        print(f\"{title} not found\")\n",
    "        print(\"---------------------\")\n",
    "        pass"
   ]
  },
  {
   "cell_type": "code",
   "execution_count": null,
   "id": "e7096d35",
   "metadata": {},
   "outputs": [],
   "source": []
  },
  {
   "cell_type": "code",
   "execution_count": null,
   "id": "b959de2b",
   "metadata": {},
   "outputs": [],
   "source": [
    "movie_titles =[]\n",
    "\n",
    "for movie in movies_2018[\"results\"]:\n",
    "        movie_titles.append(movie[\"title\"])\n",
    "        \n",
    "movie_titles"
   ]
  },
  {
   "cell_type": "code",
   "execution_count": null,
   "id": "c8613097",
   "metadata": {},
   "outputs": [],
   "source": [
    "movie"
   ]
  },
  {
   "cell_type": "code",
   "execution_count": null,
   "id": "002cc41e",
   "metadata": {},
   "outputs": [],
   "source": []
  }
 ],
 "metadata": {
  "kernelspec": {
   "display_name": "Python 3 (ipykernel)",
   "language": "python",
   "name": "python3"
  },
  "language_info": {
   "codemirror_mode": {
    "name": "ipython",
    "version": 3
   },
   "file_extension": ".py",
   "mimetype": "text/x-python",
   "name": "python",
   "nbconvert_exporter": "python",
   "pygments_lexer": "ipython3",
   "version": "3.9.13"
  }
 },
 "nbformat": 4,
 "nbformat_minor": 5
}
