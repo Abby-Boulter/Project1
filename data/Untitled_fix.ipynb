{
 "cells": [
  {
   "cell_type": "code",
   "execution_count": 1,
   "id": "721d492f",
   "metadata": {},
   "outputs": [],
   "source": [
    "# Dependencies\n",
    "import csv\n",
    "import os\n",
    "import pandas as pd\n",
    "import requests\n",
    "import matplotlib.pyplot as plt\n",
    "api_key = \"51ed96e7\"\n",
    "url = \"http://www.omdbapi.com/?apikey=\" + api_key + \"&t=\""
   ]
  },
  {
   "cell_type": "code",
   "execution_count": null,
   "id": "aad11346",
   "metadata": {},
   "outputs": [],
   "source": [
    "movie_1_path = os.path.join('movie_title_1.csv')\n",
    "\n",
    "titles_1 = []\n",
    "with open(movie_1_path) as file_1:\n",
    "    reader_1 = csv.reader(file_1, delimiter=\",\")\n",
    "    print(reader_1)\n",
    "\n",
    "    for title in reader2018:\n",
    "        titles_2018.append(title[1])\n",
    "        print(title[1])"
   ]
  },
  {
   "cell_type": "code",
   "execution_count": null,
   "id": "02525f42",
   "metadata": {},
   "outputs": [],
   "source": [
    "movie_titles_2018 = \"movie_title_2018.csv\"\n",
    "movie_titles_2019 = \"movie_title_2019.csv\"\n",
    "movie_titles_2020 = \"movie_title_2020.csv\"\n",
    "movie_titles_2021 = \"movie_title_2021.csv\"\n",
    "movie_titles_2022 = \"movie_title_2022.csv\"\n",
    "\n",
    "try:\n",
    "    for title in reader_1:\n",
    "        titles_1.append(title[1])\n",
    "except:\n",
    "    pass "
   ]
  },
  {
   "cell_type": "code",
   "execution_count": null,
   "id": "77f865ff",
   "metadata": {},
   "outputs": [],
   "source": [
    "movie_2018_df = pd.read_csv(movie_titles_2018)\n",
    "movie_2019_df = pd.read_csv(movie_titles_2019)\n",
    "movie_2020_df = pd.read_csv(movie_titles_2020)\n",
    "movie_2021_df = pd.read_csv(movie_titles_2021)\n",
    "movie_2022_df = pd.read_csv(movie_titles_2022)"
   ]
  },
  {
   "cell_type": "code",
   "execution_count": null,
   "id": "b1ae4c21",
   "metadata": {},
   "outputs": [],
   "source": [
    "movies = [\"Aliens\", \"Sing\", \"Moana\",\"oihihi\",\"John Wick: chapter 2\",\"Monster's Ball\",\"Forrest Gump\",\"Top Gun\",\"The Matrix\",\"Avatar\",\"American Beauty\",\"The Terminal\",\"Bird Cage\",\"Jurassic World\",\"Black Panther: Wakanda Forever\",\"The Secret Life of Pets\",\"Transformers: Dark of the Moon\",\"Frozen\",\"Toy Story 4\",\"The Hunger Games\",\"A THOUSAND WORDS\",\"GOTTI\",\"THE LAST DAYS OF AMERICAN CRIME\",\"THE DISAPPOINTMENTS ROOM\",\"MAX STEEL\"]\n",
    "\n",
    "responses = []\n",
    "meta_score = []\n",
    "imdb_score = []\n",
    "boxoffice = []\n",
    "genre = []\n",
    "not_found= []"
   ]
  },
  {
   "cell_type": "code",
   "execution_count": null,
   "id": "df4b0b86",
   "metadata": {},
   "outputs": [],
   "source": [
    "# Make a request to the OMDb API for each movie in the list.\n",
    "for movie in titles_1:\n",
    "    movie_data = requests.get(url + movie).json()\n",
    "\n",
    "    try:\n",
    "        mscore = movie_data[\"Metascore\"]\n",
    "        iscore = movie_data[\"imdbRating\"]\n",
    "        boffice = int((movie_data[\"BoxOffice\"].replace('$', '')).replace(',', ''))\n",
    "        mtype = movie_data[\"Genre\"]\n",
    "        print(f\"{movie} is an {mtype} movie with a IMDB sorec of {iscore}, a Meta score of {mscore}, and made {boffice} at the box office\")\n",
    "        print(\"---------------------\")\n",
    "        meta_score.append(mscore)\n",
    "        imdb_score.append(iscore)\n",
    "        boxoffice.append(boffice)\n",
    "        genre.append(mtype)\n",
    "    except:\n",
    "        print(f\"{movie} not found\")\n",
    "        print(\"---------------------\")\n",
    "        not_found.append(movie)\n",
    "        pass"
   ]
  },
  {
   "cell_type": "code",
   "execution_count": null,
   "id": "efb82179",
   "metadata": {},
   "outputs": [],
   "source": [
    "len(not_found)"
   ]
  },
  {
   "cell_type": "code",
   "execution_count": null,
   "id": "564cf0a2",
   "metadata": {},
   "outputs": [],
   "source": [
    "movie_2_path = os.path.join('movie_title_2.csv')\n",
    "\n",
    "titles_2 =[]\n",
    "with open(movie_2_path) as file_2:\n",
    "    reader_2 = csv.reader(file_2, delimiter=\",\")\n",
    "    print(reader_2)\n",
    "\n",
    "    try:\n",
    "        for title in reader_2:\n",
    "            titles_2.append(title[1])\n",
    "    except:\n",
    "        pass"
   ]
  },
  {
   "cell_type": "code",
   "execution_count": null,
   "id": "2002897a",
   "metadata": {},
   "outputs": [],
   "source": [
    "len(titles_2)"
   ]
  },
  {
   "cell_type": "code",
   "execution_count": null,
   "id": "5df0865e",
   "metadata": {},
   "outputs": [],
   "source": [
    "# Make a request to the OMDb API for each movie in the list.\n",
    "for movie in titles_1:\n",
    "    movie_data = requests.get(url + movie).json()\n",
    "\n",
    "    try:\n",
    "        mscore = movie_data[\"Metascore\"]\n",
    "        iscore = movie_data[\"imdbRating\"]\n",
    "        boffice = int((movie_data[\"BoxOffice\"].replace('$', '')).replace(',', ''))\n",
    "        mtype = movie_data[\"Genre\"]\n",
    "        print(f\"{movie} is an {mtype} movie with a IMDB sorec of {iscore}, a Meta score of {mscore}, and made {boffice} at the box office\")\n",
    "        print(\"---------------------\")\n",
    "        meta_score.append(mscore)\n",
    "        imdb_score.append(iscore)\n",
    "        boxoffice.append(boffice)\n",
    "        genre.append(mtype)\n",
    "    except:\n",
    "        print(f\"{movie} not found\")\n",
    "        print(\"---------------------\")\n",
    "        not_found.append(movie)\n",
    "        pass"
   ]
  }
 ],
 "metadata": {
  "kernelspec": {
   "display_name": "Python 3 (ipykernel)",
   "language": "python",
   "name": "python3"
  },
  "language_info": {
   "codemirror_mode": {
    "name": "ipython",
    "version": 3
   },
   "file_extension": ".py",
   "mimetype": "text/x-python",
   "name": "python",
   "nbconvert_exporter": "python",
   "pygments_lexer": "ipython3",
   "version": "3.9.13"
  }
 },
 "nbformat": 4,
 "nbformat_minor": 5
}
