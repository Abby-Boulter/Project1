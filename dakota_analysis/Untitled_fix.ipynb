{
 "cells": [
  {
   "cell_type": "code",
   "execution_count": 1,
   "id": "721d492f",
   "metadata": {},
   "outputs": [],
   "source": [
    "# Dependencies\n",
    "import csv\n",
    "import os\n",
    "import pandas as pd\n",
    "import requests\n",
    "import matplotlib.pyplot as plt\n",
    "api_key = \"51ed96e7\"\n",
    "url = \"http://www.omdbapi.com/?apikey=\" + api_key + \"&t=\""
   ]
  },
  {
   "cell_type": "code",
   "execution_count": 2,
   "id": "b2a3771b",
   "metadata": {},
   "outputs": [],
   "source": [
    "#lists\n",
    "responses = []\n",
    "meta_score = []\n",
    "imdb_score = []\n",
    "boxoffice = []\n",
    "rot_score = []\n",
    "not_found= []"
   ]
  },
  {
   "cell_type": "code",
   "execution_count": null,
   "id": "aad11346",
   "metadata": {},
   "outputs": [],
   "source": [
    "#read csv and create list of movie titles\n",
    "movie_1_path = os.path.join('movie_title_1.csv')\n",
    "\n",
    "titles_1 = []\n",
    "with open(movie_1_path) as file_1:\n",
    "    reader_1 = csv.reader(file_1, delimiter=\",\")\n",
    "    print(reader_1)\n",
    "\n",
    "    try:\n",
    "        for title in reader_1:\n",
    "        titles_1.append(title[1])\n",
    "    except:\n",
    "        pass "
   ]
  },
  {
   "cell_type": "code",
   "execution_count": null,
   "id": "02525f42",
   "metadata": {},
   "outputs": [],
   "source": [
    "# Make a request to the OMDb API for each movie in the list.\n",
    "for movie in titles_1:\n",
    "    movie_data = requests.get(url + movie).json()\n",
    "\n",
    "    try:\n",
    "        mscore = movie_data[\"Metascore\"]\n",
    "        iscore = movie_data[\"imdbRating\"]\n",
    "        boffice = int((movie_data[\"BoxOffice\"].replace('$', '')).replace(',', ''))\n",
    "        mtype = movie_data[\"Genre\"]\n",
    "        print(f\"{movie} is an {mtype} movie with a IMDB sorec of {iscore}, a Meta score of {mscore}, and made {boffice} at the box office\")\n",
    "        print(\"---------------------\")\n",
    "        meta_score.append(mscore)\n",
    "        imdb_score.append(iscore)\n",
    "        boxoffice.append(boffice)\n",
    "        genre.append(mtype)\n",
    "    except:\n",
    "        print(f\"{movie} not found\")\n",
    "        print(\"---------------------\")\n",
    "        not_found.append(movie)\n",
    "        pass"
   ]
  },
  {
   "cell_type": "code",
   "execution_count": null,
   "id": "77f865ff",
   "metadata": {},
   "outputs": [],
   "source": [
    "movie_2_path = os.path.join('movie_title_2.csv')\n",
    "\n",
    "titles_2 =[]\n",
    "with open(movie_2_path) as file_2:\n",
    "    reader_2 = csv.reader(file_2, delimiter=\",\")\n",
    "    print(reader_2)\n",
    "\n",
    "    try:\n",
    "        for title in reader_2:\n",
    "            titles_2.append(title[1])\n",
    "    except:\n",
    "        pass"
   ]
  },
  {
   "cell_type": "code",
   "execution_count": null,
   "id": "b1ae4c21",
   "metadata": {},
   "outputs": [],
   "source": [
    "# Make a request to the OMDb API for each movie in the list.\n",
    "for movie in titles_2:\n",
    "    movie_data = requests.get(url + movie).json()\n",
    "\n",
    "    try:\n",
    "        mscore = movie_data[\"Metascore\"]\n",
    "        iscore = movie_data[\"imdbRating\"]\n",
    "        boffice = int((movie_data[\"BoxOffice\"].replace('$', '')).replace(',', ''))\n",
    "        mtype = movie_data[\"Genre\"]\n",
    "        print(f\"{movie} is an {mtype} movie with a IMDB sorec of {iscore}, a Meta score of {mscore}, and made {boffice} at the box office\")\n",
    "        print(\"---------------------\")\n",
    "        meta_score.append(mscore)\n",
    "        imdb_score.append(iscore)\n",
    "        boxoffice.append(boffice)\n",
    "        genre.append(mtype)\n",
    "    except:\n",
    "        print(f\"{movie} not found\")\n",
    "        print(\"---------------------\")\n",
    "        not_found.append(movie)\n",
    "        pass"
   ]
  },
  {
   "cell_type": "code",
   "execution_count": 5,
   "id": "df4b0b86",
   "metadata": {},
   "outputs": [
    {
     "ename": "FileNotFoundError",
     "evalue": "[Errno 2] No such file or directory: 'movie_title_3.csv'",
     "output_type": "error",
     "traceback": [
      "\u001b[1;31m---------------------------------------------------------------------------\u001b[0m",
      "\u001b[1;31mFileNotFoundError\u001b[0m                         Traceback (most recent call last)",
      "\u001b[1;32m~\\AppData\\Local\\Temp\\ipykernel_24064\\2622939049.py\u001b[0m in \u001b[0;36m<module>\u001b[1;34m\u001b[0m\n\u001b[0;32m      3\u001b[0m \u001b[1;33m\u001b[0m\u001b[0m\n\u001b[0;32m      4\u001b[0m \u001b[0mtitles_3\u001b[0m \u001b[1;33m=\u001b[0m \u001b[1;33m[\u001b[0m\u001b[1;33m]\u001b[0m\u001b[1;33m\u001b[0m\u001b[1;33m\u001b[0m\u001b[0m\n\u001b[1;32m----> 5\u001b[1;33m \u001b[1;32mwith\u001b[0m \u001b[0mopen\u001b[0m\u001b[1;33m(\u001b[0m\u001b[0mmovie_3_path\u001b[0m\u001b[1;33m)\u001b[0m \u001b[1;32mas\u001b[0m \u001b[0mfile_3\u001b[0m\u001b[1;33m:\u001b[0m\u001b[1;33m\u001b[0m\u001b[1;33m\u001b[0m\u001b[0m\n\u001b[0m\u001b[0;32m      6\u001b[0m     \u001b[0mreader_3\u001b[0m \u001b[1;33m=\u001b[0m \u001b[0mcsv\u001b[0m\u001b[1;33m.\u001b[0m\u001b[0mreader\u001b[0m\u001b[1;33m(\u001b[0m\u001b[0mfile_3\u001b[0m\u001b[1;33m,\u001b[0m \u001b[0mdelimiter\u001b[0m\u001b[1;33m=\u001b[0m\u001b[1;34m\",\"\u001b[0m\u001b[1;33m)\u001b[0m\u001b[1;33m\u001b[0m\u001b[1;33m\u001b[0m\u001b[0m\n\u001b[0;32m      7\u001b[0m     \u001b[0mprint\u001b[0m\u001b[1;33m(\u001b[0m\u001b[0mreader_3\u001b[0m\u001b[1;33m)\u001b[0m\u001b[1;33m\u001b[0m\u001b[1;33m\u001b[0m\u001b[0m\n",
      "\u001b[1;31mFileNotFoundError\u001b[0m: [Errno 2] No such file or directory: 'movie_title_3.csv'"
     ]
    }
   ],
   "source": [
    "#read csv and create list of movie titles\n",
    "movie_3_path = os.path.join('movie_title_3.csv')\n",
    "\n",
    "titles_3 = []\n",
    "with open(movie_3_path) as file_3:\n",
    "    reader_3 = csv.reader(file_3, delimiter=\",\")\n",
    "    print(reader_3)\n",
    "\n",
    "    try:\n",
    "        for title in reader_3:\n",
    "            titles_3.append(title[1])\n",
    "    except:\n",
    "        pass "
   ]
  },
  {
   "cell_type": "code",
   "execution_count": null,
   "id": "efb82179",
   "metadata": {},
   "outputs": [],
   "source": [
    "# Make a request to the OMDb API for each movie in the list.\n",
    "for movie in titles_3:\n",
    "    movie_data = requests.get(url + movie).json()\n",
    "\n",
    "    try:\n",
    "        mscore = movie_data[\"Metascore\"]\n",
    "        iscore = movie_data[\"imdbRating\"]\n",
    "        boffice = int((movie_data[\"BoxOffice\"].replace('$', '')).replace(',', ''))\n",
    "        mtype = movie_data[\"Genre\"]\n",
    "        print(f\"{movie} is an {mtype} movie with a IMDB sorec of {iscore}, a Meta score of {mscore}, and made {boffice} at the box office\")\n",
    "        print(\"---------------------\")\n",
    "        meta_score.append(mscore)\n",
    "        imdb_score.append(iscore)\n",
    "        boxoffice.append(boffice)\n",
    "        genre.append(mtype)\n",
    "    except:\n",
    "        print(f\"{movie} not found\")\n",
    "        print(\"---------------------\")\n",
    "        not_found.append(movie)\n",
    "        pass"
   ]
  },
  {
   "cell_type": "code",
   "execution_count": 4,
   "id": "564cf0a2",
   "metadata": {},
   "outputs": [
    {
     "name": "stdout",
     "output_type": "stream",
     "text": [
      "<_csv.reader object at 0x7fe1715fe350>\n"
     ]
    }
   ],
   "source": [
    "#read csv and create list of movie titles\n",
    "movie_4_path = os.path.join('movie_title_4.csv')\n",
    "\n",
    "titles_4 = []\n",
    "with open(movie_4_path) as file_4:\n",
    "    reader_4 = csv.reader(file_4, delimiter=\",\")\n",
    "    print(reader_4)\n",
    "\n",
    "    try:\n",
    "        for title in reader_4:\n",
    "            titles_4.append(title[1])\n",
    "    except:\n",
    "        pass "
   ]
  },
  {
   "cell_type": "code",
   "execution_count": null,
   "id": "2002897a",
   "metadata": {},
   "outputs": [],
   "source": [
    "# Make a request to the OMDb API for each movie in the list.\n",
    "for movie in titles_4[:10]:\n",
    "    movie_data = requests.get(url + movie).json()\n",
    "    #print(movie_data)\n",
    "    try:\n",
    "        \n",
    "        mscore = movie_data[\"Metascore\"]\n",
    "        iscore = movie_data[\"imdbRating\"]\n",
    "        rot = float(movie_data[\"Ratings\"][1][\"Value\"].replace('%',''))\n",
    "        boffice = int((movie_data[\"BoxOffice\"].replace('$', '')).replace(',', ''))\n",
    "#         #print(f\"{movie} is an {mtype} movie with a IMDB sorec of {iscore}, a Meta score of {mscore}, and made {boffice} at the box office\")\n",
    "        print(\"---------------------\")\n",
    "        meta_score.append(mscore)\n",
    "        imdb_score.append(iscore)\n",
    "        boxoffice.append(boffice)\n",
    "        rot_score.append(mtype)\n",
    "    except Exception as e:\n",
    "        print(e)\n",
    "        pass\n",
    "        pass"
   ]
  },
  {
   "cell_type": "code",
   "execution_count": null,
   "id": "5df0865e",
   "metadata": {},
   "outputs": [],
   "source": []
  },
  {
   "cell_type": "code",
   "execution_count": null,
   "id": "ec461cab",
   "metadata": {},
   "outputs": [],
   "source": []
  }
 ],
 "metadata": {
  "kernelspec": {
   "display_name": "Python 3 (ipykernel)",
   "language": "python",
   "name": "python3"
  },
  "language_info": {
   "codemirror_mode": {
    "name": "ipython",
    "version": 3
   },
   "file_extension": ".py",
   "mimetype": "text/x-python",
   "name": "python",
   "nbconvert_exporter": "python",
   "pygments_lexer": "ipython3",
   "version": "3.9.13"
  }
 },
 "nbformat": 4,
 "nbformat_minor": 5
}
