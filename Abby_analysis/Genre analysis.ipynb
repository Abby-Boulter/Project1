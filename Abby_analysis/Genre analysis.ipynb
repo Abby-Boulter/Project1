{
 "cells": [
  {
   "cell_type": "code",
   "execution_count": 1,
   "id": "caae4dba",
   "metadata": {},
   "outputs": [
    {
     "name": "stdout",
     "output_type": "stream",
     "text": [
      "oihihi not found\n",
      "---------------------\n",
      "Bird Cage not found\n",
      "---------------------\n",
      "Black Panther: Wakanda Forever not found\n",
      "---------------------\n",
      "THE LAST DAYS OF AMERICAN CRIME not found\n",
      "---------------------\n"
     ]
    }
   ],
   "source": [
    "# Dependencies\n",
    "import pandas as pd\n",
    "import requests\n",
    "import matplotlib.pyplot as plt\n",
    "import scipy.stats as st\n",
    "from scipy.stats import linregress\n",
    "api_key = \"f14b5199\"\n",
    "\n",
    "url = \"http://www.omdbapi.com/?apikey=\" + api_key + \"&t=\"\n",
    "\n",
    "movies = [\"Aliens\", \"Sing\", \"Moana\",\"oihihi\",\"John Wick: chapter 2\",\"Monster's Ball\",\"Forrest Gump\",\"Top Gun\",\"The Matrix\",\"Avatar\",\"American Beauty\",\"The Terminal\",\"Bird Cage\",\"Jurassic World\",\"Black Panther: Wakanda Forever\",\"The Secret Life of Pets\",\"Transformers: Dark of the Moon\",\"Frozen\",\"Toy Story 4\",\"The Hunger Games\",\"A THOUSAND WORDS\",\"GOTTI\",\"THE LAST DAYS OF AMERICAN CRIME\",\"THE DISAPPOINTMENTS ROOM\",\"MAX STEEL\"]\n",
    "\n",
    "responses = []\n",
    "meta_score = []\n",
    "imdb_score = []\n",
    "boxoffice = []\n",
    "genre = []\n",
    "\n",
    "# Make a request to the OMDb API for each movie in the list.\n",
    "for movie in movies:\n",
    "    movie_data = requests.get(url + movie).json()\n",
    "   \n",
    "    try:\n",
    "        mscore = float(movie_data[\"Metascore\"])\n",
    "        iscore = float(movie_data[\"imdbRating\"])\n",
    "        boffice = float((movie_data[\"BoxOffice\"].replace('$', '')).replace(',', ''))\n",
    "        mtype = movie_data[\"Genre\"]\n",
    "        #print(f\"{movie} is an {mtype} movie with a IMDB sorec of {iscore}, a Meta score of {mscore}, and made {boffice} at the box office\")\n",
    "        #print(\"---------------------\")\n",
    "        meta_score.append(mscore)\n",
    "        imdb_score.append(iscore)\n",
    "        boxoffice.append(boffice)\n",
    "        genre.append(mtype)\n",
    "    except:\n",
    "        print(f\"{movie} not found\")\n",
    "        print(\"---------------------\")\n",
    "        pass\n",
    "   \n"
   ]
  },
  {
   "cell_type": "code",
   "execution_count": 24,
   "id": "69c03498",
   "metadata": {},
   "outputs": [
    {
     "name": "stdout",
     "output_type": "stream",
     "text": [
      "The correlation strength between IMDB score and boxoffice earnings is 0.38\n",
      "The equation of the line is y = 62025082.33x + -192518002.11\n"
     ]
    },
    {
     "data": {
      "text/plain": [
       "Text(0, 0.5, 'Boxoffice Earnings ($100Ms)')"
      ]
     },
     "execution_count": 24,
     "metadata": {},
     "output_type": "execute_result"
    },
    {
     "data": {
      "image/png": "[encoded data removed]",
      "text/plain": [
       "<Figure size 640x480 with 1 Axes>"
      ]
     },
     "metadata": {},
     "output_type": "display_data"
    }
   ],
   "source": [
    "#IMDB Score vs Block Office Success\n",
    "#Create dataframe with sorted IMDB scores\n",
    "per_IMDB_score = pd.DataFrame({\"IMDB Score\":imdb_score,\"Box Office Earnings\":boxoffice})\n",
    "sorted_IMBD_score = per_IMDB_score.sort_values(\"IMDB Score\", ascending = True)\n",
    "sorted_IMBD_score\n",
    "\n",
    "#Plot IMDB scores vs earnings\n",
    "plt.scatter(sorted_IMBD_score.iloc[:,0],sorted_IMBD_score.iloc[:,1],marker = \"o\", color = \"red\")\n",
    "\n",
    "#Determine strenght of relationship between IMDB score and boxoffice earnings\n",
    "IMDB_correlation = st.pearsonr(sorted_IMBD_score.iloc[:,0],sorted_IMBD_score.iloc[:,1])\n",
    "print(f\"The correlation strength between IMDB score and boxoffice earnings is {round(IMDB_correlation[0],2)}\") \n",
    "\n",
    "#Calculate regression equation and plot forecasting line\n",
    "(slope, intercept, rvalue, pvalue, stderr) = linregress(sorted_IMBD_score.iloc[:,0],sorted_IMBD_score.iloc[:,1])\n",
    "regress_values = (sorted_IMBD_score.iloc[:,0])* slope  + intercept\n",
    "line_eq = \"y = \" + str(round(slope,2)) + \"x + \" + str(round(intercept,2))\n",
    "print(f\"The equation of the line is {line_eq}\")\n",
    "plt.plot(sorted_IMBD_score.iloc[:,0],regress_values,\"r-\")\n",
    "plt.annotate(line_eq,(5.8,0.8),fontsize = 15, color = \"black\")\n",
    "plt.xlabel('IMDB Score')\n",
    "plt.ylabel('Boxoffice Earnings ($100Ms)')"
   ]
  },
  {
   "cell_type": "code",
   "execution_count": 12,
   "id": "db3b2c3b",
   "metadata": {},
   "outputs": [
    {
     "data": {
      "text/html": [
       "<div>\n",
       "<style scoped>\n",
       "    .dataframe tbody tr th:only-of-type {\n",
       "        vertical-align: middle;\n",
       "    }\n",
       "\n",
       "    .dataframe tbody tr th {\n",
       "        vertical-align: top;\n",
       "    }\n",
       "\n",
       "    .dataframe thead th {\n",
       "        text-align: right;\n",
       "    }\n",
       "</style>\n",
       "<table border=\"1\" class=\"dataframe\">\n",
       "  <thead>\n",
       "    <tr style=\"text-align: right;\">\n",
       "      <th></th>\n",
       "      <th>IMDB Score</th>\n",
       "      <th>Box Office Earnings</th>\n",
       "    </tr>\n",
       "  </thead>\n",
       "  <tbody>\n",
       "    <tr>\n",
       "      <th>19</th>\n",
       "      <td>3.9</td>\n",
       "      <td>2423468.0</td>\n",
       "    </tr>\n",
       "    <tr>\n",
       "      <th>20</th>\n",
       "      <td>4.6</td>\n",
       "      <td>3818664.0</td>\n",
       "    </tr>\n",
       "    <tr>\n",
       "      <th>18</th>\n",
       "      <td>4.7</td>\n",
       "      <td>4343227.0</td>\n",
       "    </tr>\n",
       "    <tr>\n",
       "      <th>17</th>\n",
       "      <td>5.8</td>\n",
       "      <td>18450127.0</td>\n",
       "    </tr>\n",
       "    <tr>\n",
       "      <th>13</th>\n",
       "      <td>6.2</td>\n",
       "      <td>352390543.0</td>\n",
       "    </tr>\n",
       "    <tr>\n",
       "      <th>12</th>\n",
       "      <td>6.5</td>\n",
       "      <td>368384330.0</td>\n",
       "    </tr>\n",
       "    <tr>\n",
       "      <th>6</th>\n",
       "      <td>6.9</td>\n",
       "      <td>180258178.0</td>\n",
       "    </tr>\n",
       "    <tr>\n",
       "      <th>11</th>\n",
       "      <td>6.9</td>\n",
       "      <td>653406625.0</td>\n",
       "    </tr>\n",
       "    <tr>\n",
       "      <th>1</th>\n",
       "      <td>7.1</td>\n",
       "      <td>270578425.0</td>\n",
       "    </tr>\n",
       "    <tr>\n",
       "      <th>4</th>\n",
       "      <td>7.1</td>\n",
       "      <td>31273922.0</td>\n",
       "    </tr>\n",
       "    <tr>\n",
       "      <th>16</th>\n",
       "      <td>7.2</td>\n",
       "      <td>408010692.0</td>\n",
       "    </tr>\n",
       "    <tr>\n",
       "      <th>14</th>\n",
       "      <td>7.4</td>\n",
       "      <td>400953009.0</td>\n",
       "    </tr>\n",
       "    <tr>\n",
       "      <th>10</th>\n",
       "      <td>7.4</td>\n",
       "      <td>77872883.0</td>\n",
       "    </tr>\n",
       "    <tr>\n",
       "      <th>3</th>\n",
       "      <td>7.4</td>\n",
       "      <td>92029184.0</td>\n",
       "    </tr>\n",
       "    <tr>\n",
       "      <th>2</th>\n",
       "      <td>7.6</td>\n",
       "      <td>248757044.0</td>\n",
       "    </tr>\n",
       "    <tr>\n",
       "      <th>15</th>\n",
       "      <td>7.7</td>\n",
       "      <td>434038008.0</td>\n",
       "    </tr>\n",
       "    <tr>\n",
       "      <th>8</th>\n",
       "      <td>7.9</td>\n",
       "      <td>785221649.0</td>\n",
       "    </tr>\n",
       "    <tr>\n",
       "      <th>9</th>\n",
       "      <td>8.4</td>\n",
       "      <td>130096601.0</td>\n",
       "    </tr>\n",
       "    <tr>\n",
       "      <th>0</th>\n",
       "      <td>8.4</td>\n",
       "      <td>85160248.0</td>\n",
       "    </tr>\n",
       "    <tr>\n",
       "      <th>7</th>\n",
       "      <td>8.7</td>\n",
       "      <td>172076928.0</td>\n",
       "    </tr>\n",
       "    <tr>\n",
       "      <th>5</th>\n",
       "      <td>8.8</td>\n",
       "      <td>330455270.0</td>\n",
       "    </tr>\n",
       "  </tbody>\n",
       "</table>\n",
       "</div>"
      ],
      "text/plain": [
       "    IMDB Score  Box Office Earnings\n",
       "19         3.9            2423468.0\n",
       "20         4.6            3818664.0\n",
       "18         4.7            4343227.0\n",
       "17         5.8           18450127.0\n",
       "13         6.2          352390543.0\n",
       "12         6.5          368384330.0\n",
       "6          6.9          180258178.0\n",
       "11         6.9          653406625.0\n",
       "1          7.1          270578425.0\n",
       "4          7.1           31273922.0\n",
       "16         7.2          408010692.0\n",
       "14         7.4          400953009.0\n",
       "10         7.4           77872883.0\n",
       "3          7.4           92029184.0\n",
       "2          7.6          248757044.0\n",
       "15         7.7          434038008.0\n",
       "8          7.9          785221649.0\n",
       "9          8.4          130096601.0\n",
       "0          8.4           85160248.0\n",
       "7          8.7          172076928.0\n",
       "5          8.8          330455270.0"
      ]
     },
     "execution_count": 12,
     "metadata": {},
     "output_type": "execute_result"
    }
   ],
   "source": [
    "sorted_IMBD_score"
   ]
  },
  {
   "cell_type": "code",
   "execution_count": 25,
   "id": "26f7de48",
   "metadata": {},
   "outputs": [
    {
     "ename": "AttributeError",
     "evalue": "'list' object has no attribute 'split'",
     "output_type": "error",
     "traceback": [
      "\u001b[0;31m---------------------------------------------------------------------------\u001b[0m",
      "\u001b[0;31mAttributeError\u001b[0m                            Traceback (most recent call last)",
      "\u001b[0;32m/var/folders/tz/cfyzxyv5373bmw54nrr77f4h0000gn/T/ipykernel_27082/3639356242.py\u001b[0m in \u001b[0;36m<module>\u001b[0;34m\u001b[0m\n\u001b[0;32m----> 1\u001b[0;31m \u001b[0mgenre\u001b[0m\u001b[0;34m.\u001b[0m\u001b[0msplit\u001b[0m\u001b[0;34m(\u001b[0m\u001b[0;34m','\u001b[0m\u001b[0;34m)\u001b[0m\u001b[0;34m\u001b[0m\u001b[0;34m\u001b[0m\u001b[0m\n\u001b[0m",
      "\u001b[0;31mAttributeError\u001b[0m: 'list' object has no attribute 'split'"
     ]
    }
   ],
   "source": [
    "genre.split(',')"
   ]
  },
  {
   "cell_type": "code",
   "execution_count": 44,
   "id": "c82ed9ec",
   "metadata": {},
   "outputs": [
    {
     "name": "stdout",
     "output_type": "stream",
     "text": [
      "Action, Adventure, Sci-Fi\n",
      "Animation, Comedy, Family\n",
      "Animation, Adventure, Comedy\n",
      "Action, Crime, Thriller\n",
      "Drama, Romance\n",
      "Drama, Romance\n",
      "Action, Drama\n",
      "Action, Sci-Fi\n",
      "Action, Adventure, Fantasy\n",
      "Drama\n",
      "Comedy, Drama, Romance\n",
      "Action, Adventure, Sci-Fi\n",
      "Animation, Adventure, Comedy\n",
      "Action, Adventure, Sci-Fi\n",
      "Animation, Adventure, Comedy\n",
      "Animation, Adventure, Comedy\n",
      "Action, Adventure, Sci-Fi\n",
      "Comedy, Drama, Fantasy\n",
      "Biography, Crime, Drama\n",
      "Drama, Horror, Thriller\n",
      "Action, Adventure, Fantasy\n"
     ]
    }
   ],
   "source": [
    "ind_genre = []\n",
    "first_genre = []\n",
    "for row in genre:\n",
    "    first_genre.append(row[0])\n",
    "    ind = row.split(',')\n",
    "    print(row)\n",
    "    for i in ind:\n",
    "        ind_genre.append(i)\n",
    "        \n"
   ]
  },
  {
   "cell_type": "code",
   "execution_count": 46,
   "id": "6d70e4ce",
   "metadata": {},
   "outputs": [
    {
     "data": {
      "text/plain": [
       "21"
      ]
     },
     "execution_count": 46,
     "metadata": {},
     "output_type": "execute_result"
    }
   ],
   "source": [
    "len(first_genre)"
   ]
  },
  {
   "cell_type": "code",
   "execution_count": 36,
   "id": "658e47ef",
   "metadata": {},
   "outputs": [
    {
     "data": {
      "text/plain": [
       "21"
      ]
     },
     "execution_count": 36,
     "metadata": {},
     "output_type": "execute_result"
    }
   ],
   "source": [
    "len(genre)"
   ]
  },
  {
   "cell_type": "code",
   "execution_count": 37,
   "id": "f9400d2a",
   "metadata": {},
   "outputs": [
    {
     "data": {
      "text/plain": [
       "57"
      ]
     },
     "execution_count": 37,
     "metadata": {},
     "output_type": "execute_result"
    }
   ],
   "source": [
    "len(ind_genre)"
   ]
  },
  {
   "cell_type": "code",
   "execution_count": 39,
   "id": "9f102723",
   "metadata": {},
   "outputs": [
    {
     "data": {
      "text/plain": [
       " Adventure    10\n",
       "Action         9\n",
       " Comedy        5\n",
       " Sci-Fi        5\n",
       "Animation      5\n",
       " Drama         4\n",
       "Drama          4\n",
       " Fantasy       3\n",
       " Romance       3\n",
       " Crime         2\n",
       " Thriller      2\n",
       "Comedy         2\n",
       " Family        1\n",
       " Horror        1\n",
       "Biography      1\n",
       "dtype: int64"
      ]
     },
     "execution_count": 39,
     "metadata": {},
     "output_type": "execute_result"
    }
   ],
   "source": [
    "pd.DataFrame(ind_genre).value_counts()"
   ]
  },
  {
   "cell_type": "code",
   "execution_count": null,
   "id": "7582ac18",
   "metadata": {},
   "outputs": [],
   "source": []
  }
 ],
 "metadata": {
  "kernelspec": {
   "display_name": "Python 3 (ipykernel)",
   "language": "python",
   "name": "python3"
  },
  "language_info": {
   "codemirror_mode": {
    "name": "ipython",
    "version": 3
   },
   "file_extension": ".py",
   "mimetype": "text/x-python",
   "name": "python",
   "nbconvert_exporter": "python",
   "pygments_lexer": "ipython3",
   "version": "3.9.13"
  }
 },
 "nbformat": 4,
 "nbformat_minor": 5
}
