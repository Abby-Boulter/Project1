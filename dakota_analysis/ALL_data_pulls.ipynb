{
 "cells": [
  {
   "cell_type": "code",
   "execution_count": null,
   "id": "721d492f",
   "metadata": {},
   "outputs": [],
   "source": [
    "# Dependencies\n",
    "import csv\n",
    "import os\n",
    "import pandas as pd\n",
    "import requests\n",
    "import matplotlib.pyplot as plt\n",
    "import time\n",
    "api_key = \"51ed96e7\"\n",
    "url = \"http://www.omdbapi.com/?apikey=\" + api_key + \"&t=\""
   ]
  },
  {
   "cell_type": "code",
   "execution_count": null,
   "id": "b2a3771b",
   "metadata": {},
   "outputs": [],
   "source": [
    "#lists\n",
    "responses = []\n",
    "meta_score = []\n",
    "imdb_score = []\n",
    "boxoffice = []\n",
    "rot_score = []\n",
    "not_found= []"
   ]
  },
  {
   "cell_type": "code",
   "execution_count": null,
   "id": "aad11346",
   "metadata": {},
   "outputs": [],
   "source": [
    "#read csv and create list of movie titles\n",
    "movie_1_path = os.path.join(/../'data'/'movie_title_1.csv')\n",
    "\n",
    "titles_1 = []\n",
    "with open(movie_1_path) as file_1:\n",
    "    reader_1 = csv.reader(file_1, delimiter=\",\")\n",
    "    print(reader_1)\n",
    "\n",
    "    try:\n",
    "        for title in reader_1:\n",
    "        titles_1.append(title[1])\n",
    "    except:\n",
    "        pass "
   ]
  },
  {
   "cell_type": "code",
   "execution_count": null,
   "id": "02525f42",
   "metadata": {},
   "outputs": [],
   "source": [
    "# Make a request to the OMDb API for each movie in the list.\n",
    "for movie in titles_1:\n",
    "    time.sleep(2)\n",
    "    movie_data = requests.get(url + movie).json()\n",
    "\n",
    "    try:\n",
    "        mscore = movie_data[\"Metascore\"]\n",
    "        iscore = movie_data[\"imdbRating\"]\n",
    "        rot = float(movie_data[\"Ratings\"][1][\"Value\"].replace('%',''))\n",
    "        boffice = int((movie_data[\"BoxOffice\"].replace('$', '')).replace(',', ''))\n",
    "        print(\"---------------------\")\n",
    "        meta_score.append(mscore)\n",
    "        imdb_score.append(iscore)\n",
    "        boxoffice.append(boffice)\n",
    "        rot_score.append(rot)\n",
    "    except:\n",
    "        print(f\"{movie} not found\")\n",
    "        #print(\"---------------------\")\n",
    "        not_found.append(movie)\n",
    "        pass"
   ]
  },
  {
   "cell_type": "code",
   "execution_count": null,
   "id": "77f865ff",
   "metadata": {},
   "outputs": [],
   "source": [
    "movie_2_path = os.path.join(/../'data'/'movie_title_2.csv')\n",
    "\n",
    "titles_2 =[]\n",
    "with open(movie_2_path) as file_2:\n",
    "    reader_2 = csv.reader(file_2, delimiter=\",\")\n",
    "    print(reader_2)\n",
    "\n",
    "    try:\n",
    "        for title in reader_2:\n",
    "            titles_2.append(title[1])\n",
    "    except:\n",
    "        pass"
   ]
  },
  {
   "cell_type": "code",
   "execution_count": null,
   "id": "b1ae4c21",
   "metadata": {},
   "outputs": [],
   "source": [
    "# Make a request to the OMDb API for each movie in the list.\n",
    "for movie in titles_2:\n",
    "    time.sleep(2)\n",
    "    movie_data = requests.get(url + movie).json()\n",
    "\n",
    "    try:\n",
    "        mscore = movie_data[\"Metascore\"]\n",
    "        iscore = movie_data[\"imdbRating\"]\n",
    "        rot = float(movie_data[\"Ratings\"][1][\"Value\"].replace('%',''))\n",
    "        boffice = int((movie_data[\"BoxOffice\"].replace('$', '')).replace(',', ''))\n",
    "        print(\"---------------------\")\n",
    "        meta_score.append(mscore)\n",
    "        imdb_score.append(iscore)\n",
    "        boxoffice.append(boffice)\n",
    "        rot_score.append(rot)\n",
    "    except:\n",
    "        print(f\"{movie} not found\")\n",
    "        #print(\"---------------------\")\n",
    "        not_found.append(movie)\n",
    "        pass"
   ]
  },
  {
   "cell_type": "code",
   "execution_count": null,
   "id": "df4b0b86",
   "metadata": {},
   "outputs": [],
   "source": [
    "#read csv and create list of movie titles\n",
    "movie_3_path = os.path.join(/../'data'/'movie_title_3.csv')\n",
    "\n",
    "titles_3 = []\n",
    "with open(movie_3_path) as file_3:\n",
    "    reader_3 = csv.reader(file_3, delimiter=\",\")\n",
    "    print(reader_3)\n",
    "\n",
    "    try:\n",
    "        for title in reader_3:\n",
    "            titles_3.append(title[1])\n",
    "    except:\n",
    "        pass "
   ]
  },
  {
   "cell_type": "code",
   "execution_count": null,
   "id": "efb82179",
   "metadata": {},
   "outputs": [],
   "source": [
    "# Make a request to the OMDb API for each movie in the list.\n",
    "for movie in titles_3:\n",
    "    time.sleep(2)\n",
    "    movie_data = requests.get(url + movie).json()\n",
    "\n",
    "    try:\n",
    "        mscore = movie_data[\"Metascore\"]\n",
    "        iscore = movie_data[\"imdbRating\"]\n",
    "        rot = float(movie_data[\"Ratings\"][1][\"Value\"].replace('%',''))\n",
    "        boffice = int((movie_data[\"BoxOffice\"].replace('$', '')).replace(',', ''))\n",
    "        print(\"---------------------\")\n",
    "        meta_score.append(mscore)\n",
    "        imdb_score.append(iscore)\n",
    "        boxoffice.append(boffice)\n",
    "        rot_score.append(rot)\n",
    "    except:\n",
    "        print(f\"{movie} not found\")\n",
    "        #print(\"---------------------\")\n",
    "        not_found.append(movie)\n",
    "        pass"
   ]
  },
  {
   "cell_type": "code",
   "execution_count": null,
   "id": "564cf0a2",
   "metadata": {},
   "outputs": [],
   "source": [
    "#read csv and create list of movie titles\n",
    "movie_4_path = os.path.join(/../'data'/'movie_title_4.csv')\n",
    "\n",
    "titles_4 = []\n",
    "with open(movie_4_path) as file_4:\n",
    "    reader_4 = csv.reader(file_4, delimiter=\",\")\n",
    "    print(reader_4)\n",
    "\n",
    "    try:\n",
    "        for title in reader_4:\n",
    "            titles_4.append(title[1])\n",
    "    except:\n",
    "        pass "
   ]
  },
  {
   "cell_type": "code",
   "execution_count": null,
   "id": "2002897a",
   "metadata": {},
   "outputs": [],
   "source": [
    "# Make a request to the OMDb API for each movie in the list.\n",
    "for movie in titles_4:\n",
    "    time.sleep(2)\n",
    "    movie_data = requests.get(url + movie).json()\n",
    "    \n",
    "    try:\n",
    "        mscore = movie_data[\"Metascore\"]\n",
    "        iscore = movie_data[\"imdbRating\"]\n",
    "        rot = float(movie_data[\"Ratings\"][1][\"Value\"].replace('%',''))\n",
    "        boffice = int((movie_data[\"BoxOffice\"].replace('$', '')).replace(',', ''))\n",
    "        print(\"---------------------\")\n",
    "        meta_score.append(mscore)\n",
    "        imdb_score.append(iscore)\n",
    "        boxoffice.append(boffice)\n",
    "        rot_score.append(rot)\n",
    "    except:\n",
    "        print(f\"{movie} not found\")\n",
    "        #print(\"---------------------\")\n",
    "        not_found.append(movie)\n",
    "        pass"
   ]
  },
  {
   "cell_type": "code",
   "execution_count": null,
   "id": "5df0865e",
   "metadata": {},
   "outputs": [],
   "source": []
  },
  {
   "cell_type": "code",
   "execution_count": null,
   "id": "67ad7cc5",
   "metadata": {},
   "outputs": [],
   "source": []
  }
 ],
 "metadata": {
  "kernelspec": {
   "display_name": "Python 3 (ipykernel)",
   "language": "python",
   "name": "python3"
  },
  "language_info": {
   "codemirror_mode": {
    "name": "ipython",
    "version": 3
   },
   "file_extension": ".py",
   "mimetype": "text/x-python",
   "name": "python",
   "nbconvert_exporter": "python",
   "pygments_lexer": "ipython3",
   "version": "3.9.13"
  }
 },
 "nbformat": 4,
 "nbformat_minor": 5
}
