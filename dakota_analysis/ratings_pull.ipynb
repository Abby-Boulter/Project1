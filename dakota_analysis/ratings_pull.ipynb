{
 "cells": [
  {
   "cell_type": "code",
   "execution_count": 9,
   "id": "54303d11",
   "metadata": {},
   "outputs": [],
   "source": [
    "# Dependencies\n",
    "import csv\n",
    "import os\n",
    "import pandas as pd\n",
    "import requests\n",
    "import matplotlib.pyplot as plt\n",
    "import time\n",
    "api_key = \"51ed96e7\"\n",
    "url = \"http://www.omdbapi.com/?apikey=\" + api_key + \"&t=\""
   ]
  },
  {
   "cell_type": "code",
   "execution_count": 6,
   "id": "184b0a65",
   "metadata": {},
   "outputs": [],
   "source": [
    "#lists\n",
    "responses = []\n",
    "meta_score = []\n",
    "imdb_score = []\n",
    "boxoffice = []\n",
    "rot_score = []\n",
    "not_found= []"
   ]
  },
  {
   "cell_type": "code",
   "execution_count": 7,
   "id": "5cab1e14",
   "metadata": {},
   "outputs": [
    {
     "name": "stdout",
     "output_type": "stream",
     "text": [
      "<_csv.reader object at 0x000001DE164270A0>\n"
     ]
    }
   ],
   "source": [
    "#read csv and create list of movie titles\n",
    "movie_1_path = os.path.join('movie_title_1-Copy1.csv')\n",
    "\n",
    "titles_1 = []\n",
    "with open(movie_1_path) as file_1:\n",
    "    reader_1 = csv.reader(file_1, delimiter=\",\")\n",
    "    print(reader_1)\n",
    "\n",
    "    try:\n",
    "        for title in reader_1:\n",
    "            titles_1.append(title[1])\n",
    "    except:\n",
    "        pass "
   ]
  },
  {
   "cell_type": "code",
   "execution_count": 13,
   "id": "92cea20b",
   "metadata": {},
   "outputs": [
    {
     "name": "stdout",
     "output_type": "stream",
     "text": [
      "['0', 'Creed II', 'Shazam!', 'Harry Potter and the Chamber of Secrets', 'Spider-Man: Into the Spider-Verse', 'The Hunger Games: Mockingjay - Part 1', 'Boyka: Undisputed IV', 'How to Train Your Dragon: The Hidden World', 'Deadpool 2', 'Pacific Rim', 'Alita: Battle Angel', 'Terminator Genisys', 'Venom', 'Incredibles 2', 'The Nun', 'Batman v Superman: Dawn of Justice', 'Spirit: Stallion of the Cimarron', 'The Hunger Games: Catching Fire', 'How to Train Your Dragon 2', 'The Equalizer 2', 'Sing', 'Transformers: The Last Knight', 'Joseph: King of Dreams', 'The Curse of La Llorona', 'Ralph Breaks the Internet', 'The Prince of Egypt', 'Split', 'Kung Fu Panda 3', 'The Great Wall', 'Radius', 'Aquaman', 'Hotel Transylvania 3: Summer Vacation', 'Alien', \"God's Not Dead: A Light in Darkness\", 'An Interview with God', 'Shark Tale', 'The Predator', 'Samson', 'The Grinch', 'Captain Marvel', 'Hereditary', \"Schindler's List\", 'Alpha', 'Se7en', 'Get Out', 'Five Feet Apart', 'Despicable Me 3', '(500) Days of Summer', 'The Thing', 'Glass', 'Heaven Is for Real', 'Evil Dead II', 'Mechanic: Resurrection', 'Deepwater Horizon', 'Dirty Grandpa', 'Down', 'Over the Hedge', 'Chicken Run', 'Green Book', 'Bohemian Rhapsody', 'Mortal Engines', 'Mr. & Mrs. Smith', 'Overlord', 'Bumblebee', 'The Boy Who Harnessed the Wind', 'Halloween', 'Goosebumps 2: Haunted Halloween', 'The Possession of Hannah Grace', 'I See You', 'Straight Outta Compton', 'Once Upon a Deadpool', 'A Star Is Born', 'Cold Pursuit', 'Hunter Killer', 'Fantastic Beasts: The Crimes of Grindelwald', 'What Men Want', 'The Lego Batman Movie', 'Widows', 'Passengers', 'Instant Family', \"Dragonheart 3: The Sorcerer's Curse\", 'Escape Room', 'The Upside', 'Carrie', 'The Nutcracker and the Four Realms', 'Us', 'Blackhat', 'Overboard', 'The Ring', 'The Hate U Give', 'Disobedience', 'American Gangster', 'Point Break', 'Triple Frontier', \"A Dog's Way Home\", 'Robin Hood', 'Inferno', 'The Change-Up', 'The Mule', 'Level 16', 'Antz', \"The Girl in the Spider's Web\", 'First Man', 'The Founder', 'Greta', 'The Kid Who Would Be King', '2 Guns', 'Polar', 'Crazy Rich Asians', 'Barabbas', 'Upgrade', 'Dumbo', 'The Lego Movie 2: The Second Part', \"Daddy's Home 2\", 'Self/less', 'Kin', 'Batman vs Teenage Mutant Ninja Turtles', 'Mamma Mia! Here We Go Again', 'Replicas', 'A-X-L', 'Slender Man', 'Hellraiser', 'Birdman or (The Unexpected Virtue of Ignorance)', 'Peppermint', 'Beautiful Boy', '12 Feet Deep', 'Mary Poppins Returns', 'The Scorpion King 4: Quest for Power', 'Tangled: Before Ever After', 'The House with a Clock in Its Walls', 'American Assassin', 'K-PAX', 'Bad Times at the El Royale', 'The Man with the Iron Heart', 'Fighting with My Family', 'Siberia', 'Searching', 'Bilby', \"Ferris Bueller's Day Off\", 'Survivor', 'PAW Patrol: Mighty Pups', 'Leprechaun Returns', 'Prospect', 'Mandy', 'The Report', 'Mile 22', 'Pet Sematary', 'A Question of Faith', 'Booksmart', 'The Death of Superman', 'Aquaman: Heroines of Atlantis', 'Happy Death Day 2U', 'Triple Threat', 'Good Boys', 'Mary Queen of Scots', 'Miss Bala', 'Yes, God, Yes', 'Spy', 'Lost Highway', 'Wonder Park', 'Patch Adams', 'Renegades', '42', 'Big Fish', \"Don't Be Afraid of the Dark\", 'Look Away', 'Under the Silver Lake', 'Day of the Dead: Bloodline', 'Papillon', 'Smallfoot', 'The Captive', 'Crimson Peak', 'Hop', 'Singularity', 'Safe House', 'Suspiria', 'Anchorman 2: The Legend Continues', 'Dancer in the Dark', 'Colette', 'I Kill Giants', 'The Crucifixion', 'Christopher Robin', 'Long Shot', 'Justice League vs. the Fatal Five', 'Mercury Rising', 'The Poughkeepsie Tapes', 'Momentum', 'Freaks', 'Spotlight', 'Slaughterhouse Rulez', 'The Girl on the Train', 'Johnny English Strikes Again', 'The Cloverfield Paradox', \"Don't Let Go\", 'Extremely Wicked, Shockingly Evil and Vile', \"The Queen's Corgi\", 'The Clovehitch Killer', 'Summer of 84', 'Blood Father', 'A Simple Favor', 'A.I. Rising', 'The Hard Way', 'Welcome Home', 'Serenity', 'The Hole in the Ground', 'Destroyer', 'Close', 'Brawl in Cell Block 99', 'Reign of the Supermen', 'The Dirt', \"All the Devil's Men\", 'SuperFly', 'The Marine 6: Close Quarters', 'Backtrace', \"'71\", 'We Die Young', 'Sorry to Bother You', 'Dragged Across Concrete', 'Oh, Ramona!', 'Velvet Buzzsaw', \"At Eternity's Gate\", 'Captive State', 'Little Italy', 'Burlesque', 'Brimstone', 'The House That Jack Built', 'The Vanishing', 'Discarnate', 'The Favourite', 'The Miseducation of Cameron Post', \"Darlin'\", 'The Highwaymen', 'Breaking In', 'Wildling', 'The Healer', 'The Adventures of Ichabod and Mr. Toad', 'Life Itself', 'First Reformed', \"Isn't It Romantic\", 'Hotel Mumbai', 'Awakenings', 'Can You Ever Forgive Me?', 'Iron Sky: The Coming Race', 'mid90s', 'Leave No Trace', 'The Nightingale', 'Free Solo', 'The Spy Who Dumped Me', 'The Aftermath', 'The Sisters Brothers', 'Stuber', 'High Life', 'Minding the Gap', 'Serpico', 'The Car: Road to Revenge', 'The Peanut Butter Falcon', 'Stronger', 'The Lazarus Effect', 'The Lodge', 'Kim Possible', 'Between Worlds', 'Witness for the Prosecution', 'Terminal', 'Night School', 'King of Thieves', 'The Light Between Oceans', 'Sharknado 5: Global Swarming', 'Big Time Adolescence', 'Scooby-Doo! and the Curse of the 13th Ghost', 'American Animals', 'Final Score', 'The Hummingbird Project', 'A Vigilante', '22 July', 'Where Hands Touch', 'Rust Creek', 'The Professor and the Madman', 'A Private War', 'I Am Mother', 'Buddy Games', 'Nazi Overlord', 'On the Basis of Sex', 'Welcome to Marwen', 'I Still See You', 'Against All Odds', 'The Prodigy', 'Nancy Drew and the Hidden Staircase', 'Flashdance', 'The Man Who Killed Hitler and Then the Bigfoot', 'Future World', 'Wounds', 'Assassination Nation', 'Manou the Swift', 'Lords of Chaos', 'Honey Boy', 'Hell Fest', 'Beast of Burden', 'Apollo 11', 'Down a Dark Hall', 'Maurice', 'Pyewacket', 'Vice', 'Official Secrets', 'Time Freak', 'IO', 'Creep 2', 'Lizzie', 'Second Act', \"Mother's Day\", 'The Happytime Murders', 'Vox Lux', '7 Days in Entebbe', 'Mr. Jones', 'In the Line of Fire', 'Fast Color', 'The Souvenir', 'Raw Deal', 'Wonder Wheel', 'Zoo', 'The Vast of Night', 'A Madea Family Funeral', 'The Great Hack', 'Charming', 'The Children Act', 'City of Lies', 'Asher', 'The Final Wish', 'Eighth Grade', 'Polaroid', 'Gloria Bell', 'Air Strike', 'American Factory', 'Arctic', 'Speed Kills', 'Conor McGregor: Notorious', 'Three Identical Strangers', 'The Farewell', 'We Summon the Darkness', 'The Man Who Killed Don Quixote', 'Our House', 'Kursk', 'The Gift', 'Kill Switch', \"The Blackcoat's Daughter\", 'Drunk Parents', 'Tell It to the Bees', 'Hearts Beat Loud', 'Abducted in Plain Sight', 'The Tenant', 'Stan & Ollie', 'The Head Hunter', 'Occupation', 'The Last Man', \"Dumplin'\", 'Wildlife', 'The Wolf Hour', 'Submergence', 'Fyre', 'The White Crow', 'BlacKkKlansman', 'Elizabeth Harvest', \"Nobody's Fool\", 'Teen Spirit', 'Boy Erased', 'Wheely', 'White Boy Rick', 'Gandhi', 'Nowhere to Be Found', 'Behind the Curve', 'Juliet, Naked', 'The Domestics', 'Dead Trigger', 'The Kid', 'Permission', 'The Front Runner', 'The Catcher Was a Spy', 'The Mustang', 'The Gruffalo', 'If Beale Street Could Talk', 'They Shall Not Grow Old', 'Maudie', 'The Happy Prince', 'The Death & Life of John F. Donovan', 'Galveston', \"A Stork's Journey\", 'Holmes & Watson', 'Malevolent', 'The Protector', '68 Kill', 'Then Came You', 'A Royal Winter', 'Billionaire Boys Club', 'Spinning Man', 'Edge of Fear', 'An Affair to Die For', 'The Witch in the Window', 'The Art of Self-Defense', 'Ghost House', 'Head Full of Honey', 'One Child Nation', 'Get Duked!', 'Manhattan Night', 'Maya the Bee: The Honey Games', 'Light of My Life', 'The Last Black Man in San Francisco', \"Black '47\", 'A Dark Place', 'Victoria & Abdul', 'Kidnapping Mr. Heineken', 'Kill the Messenger', 'Blinded by the Light', 'The Railway Man', 'Screamers', 'Little Monsters', 'Ashes in the Snow', 'Ben Is Back', 'The Operative', 'Blindspotting', 'Peterloo', 'Trading Paint', 'Please Stand By', 'Jackals', 'Escaping the Madhouse: The Nellie Bly Story', 'Action Point', 'The Inventor: Out for Blood in Silicon Valley', 'Whitney', 'Skin', 'Ploey: You Never Fly Alone', 'Only Mine', 'St. Agatha', 'Blue Jay', 'Pet', 'Astral', 'Paradise Hills', 'Paddleton', 'Million Dollar Arm', 'The Game Changers', 'All Is True', 'Never Grow Old', 'Abduction', 'Adopt a Highway', 'RBG', 'The Sense of an Ending', 'The Wedding Guest', 'Donnybrook', 'What They Had', 'The Day Shall Come', 'The Beach Bum', 'That Sugar Film', 'Hostage Radio', 'Damsel', 'Spring Breakaway', 'Lean on Pete', 'Brittany Runs a Marathon', \"Daniel Isn't Real\", 'Ghost Town', \"I'm Not Here\", 'The Rider', 'At First Light', 'Dog Days', 'Sweetheart', 'The Neighbor', 'Jungleland', 'Chappaquiddick', \"The Devil's Hand\", 'Mystery, Alaska', 'The Wife', 'The Viking War', 'Her Smell', 'The Dark', 'Elliot: The Littlest Reindeer', 'Bad Lieutenant', 'Brexit: The Uncivil War', 'Hail Satan?', 'Porndemic', 'Sisu', 'Bullet Head', 'After the Wedding', 'Girl on the Third Floor', 'Sharknado 4: The 4th Awakens', 'Bad Match', 'Boarding School', 'Breaking & Exiting', 'Blood Fest', 'Jackie', 'Message Man', 'Royal Matchmaker', 'Knock Down the House', 'Troop Zero', 'Shepherd: The Hero Dog', 'Late Night', 'The Parts You Lose', 'The Dark Kingdom', 'The Festival', 'The Kindergarten Teacher', 'Braid', 'The Little Stranger', 'American Hangman', 'Everybodyâ€™s Everything', 'Jonathan', 'Treehouse', 'Fishermanâ€™s Friends', 'The Amityville Murders', 'Villains', 'The Tracker', 'The Golem', 'Snatchers', 'Luce', 'Gags the Clown', 'Peter Pan: The Quest for the Never Book', 'Staten Island Summer', 'Giant Little Ones', 'Mercy Black', 'The Beach House', 'Bel Canto', 'Beneath Us', 'Instant Death', 'Corporate Animals', 'Harpoon', 'The Birdcatcher', 'City of Tiny Lights', 'The Lost Wife of Robert Durst', 'Saint Judy', \"Won't You Be My Neighbor?\", 'An Acceptable Loss', 'The Kindness of Strangers', 'Miles Davis: Birth of the Cool', 'Dear Dictator', 'Bixler High Private Eye', 'Native Son', 'Patrick', 'The Boat', 'Viking Blood', 'Jesse Stone: Innocents Lost', 'King of California', 'The Pass', 'From Prada to Nada', 'O.G.', 'The MacKintosh Man', 'Mean Dreams', 'Storm Boy', 'Purl', 'Royally Ever After', 'Maze', 'Boar', 'My Favorite Wedding', 'Untouchable', 'Thunder Road', 'End of the World', 'Finding Steve McQueen', 'Life Overtakes Me', 'McQueen', 'Ride', 'Clemency', 'For Sama', 'Zoe', 'Love You To Death', 'White Chamber', 'Wild Rose', 'Them That Follow', 'Volition', 'The Death of Dick Long', 'More Beautiful for Having Been Broken', 'Matangi / Maya / M.I.A.', 'The Legend of Secret Pass', 'Fyre Fraud', 'Swimming with Men', 'Last Breath', 'Walk. Ride. Rodeo.', 'The Bachelors', 'Studio 54', 'The Adventures of Tom Sawyer', 'Out of Blue', 'The Elephant Queen', 'Extra Ordinary', 'A Kid Like Jake', 'Fahrenheit 11/9', 'Beyond The Sky', 'The Evil Within', 'Bait', 'High Flying Bird', '#Horror', 'Beast', 'Love, Antosha', 'The Nile Hilton Incident', 'Lost in London', 'Kitbull', 'The Breaker Upperers', 'Puzzle', 'Prodigy', 'Lancaster Skies', 'The Last Laugh', 'The Gaelic King', 'Patient Seven', 'Solis', 'What Keeps You Alive', 'Alive', 'Next of Kin', 'The Old Man & the Gun', \"I Do... Until I Don't\", 'For Love or Money', \"I'll Be Gone\", 'Greener Grass', 'Juanita', 'The Oath', 'Await Further Instructions', 'Fort Bliss', 'Unplanned', 'Spider-Ham: Caught in a Ham', 'Just Add Romance', 'Blue Iguana', 'Battle Drone', 'Valentine in the Vineyard', 'Game of Death', 'Deadly Switch', 'The Guardian Angel', 'The Seagull', 'Deadly Excursion', \"What Doesn't Kill You\", 'Berlin, I Love You', 'Hungry Hearts', 'He Knows Your Every Move', 'Dave Made a Maze', 'The Great Alaskan Race', 'Sleepwalker', 'Piercing', 'The Overnight', 'Boo!', 'Untogether', 'Driveways', 'Welcome to Acapulco', 'Undercover Grandpa', 'Sword of Trust', 'Demon Eye', 'The Forgiven', 'Harmony', 'Pearl in Paradise', 'Love, Romance & Chocolate', 'Too Funny to Fail: The Life & Death of The Dana Carvey Show', 'Josie', 'Norm of the North: Keys to the Kingdom', 'Bad Reputation', 'Tone-Deaf', 'Flip That Romance', 'Foxtrot Six', 'Talon Falls', 'Blaze', 'Selah and the Spades', 'The Tomorrow Man', 'A Winter Princess', 'In Like Flynn', 'Zoo', 'The Music Box', 'Hala', 'Mad Mom', 'Robin Hood: The Rebellion', 'Benchwarmers 2: Breaking Balls', 'Alien Predator', 'Amy Schumer: Growing', 'Benjamin', 'The Standoff at Sparrow Creek', 'Death Kiss', 'Best F(r)iends: Volume 2', 'LBJ', 'A Brush with Love', 'Skate Kitchen', 'The Last Boy', 'Lifechanger', 'Monster Island', 'State Like Sleep', 'Detainment', 'ReMastered: The Two Killings of Sam Cooke', 'Rent', 'Come As You Are', 'We the Animals', '5th Passenger', 'Starfish', 'The Toybox', 'I Am Not a Witch', 'Truly, Madly, Sweetly', 'The Chaperone', 'Antisocial', 'The Isle', 'The Brave', 'Eric Clapton: Life in 12 Bars', 'Crossword Mysteries: A Puzzle to Die For', 'My Little Pony: Equestria Girls - Spring Breakdown', 'Island of Terror', 'All I Wish', 'The Glass Room', 'Pledge', 'The Axiom', 'Generation Wealth', 'Monsters and Men', 'God Bless the Broken Road', 'Who Killed JonBenÃ©t?', 'Snake Outta Compton', 'Curse of the Nun', 'The Young Offenders', 'Adventures in Public School', 'Mystery 101', 'Winter Castle', 'Back Roads', 'One Winter Weekend', 'Along Came the Devil', 'Saint Frances', 'Sweet Home Carolina', 'Mommy Would Never Hurt You', 'After Darkness', 'Dead Ant', 'Atomica', 'Smash and Grab', 'Hidden Intentions', 'Through Black Spruce', 'Judy & Punch', 'The Sunlit Night', 'Love to the Rescue', 'My Generation', 'Against the Clock', 'Love at First Bark', 'The Sweetest Heart', 'I Hate Kids', 'Meeting Gorbachev', 'Zog', 'Thicker Than Water', 'In Bed with a Killer', 'Silhouette', 'Share', 'A Young Man With High Potential', 'One Winter Proposal', 'The Sound of Silence', 'Abe', 'Separated at Birth', 'The Green Book: Guide to Freedom', 'Zoombies 2', 'A Christmas Switch', 'Beats', 'Room for Rent', 'Papi Chulo', 'Knives and Skin', 'Winter Love Story', 'Sunlight Jr.', \"Madeline's Madeline\", 'Faith, Hope & Love', 'John & Yoko: Above Us Only Sky', 'Peel', 'We Still Steal the Old Way', 'Here and Now', 'Grand-Daddy Day Care', 'Buffalo Boys', 'Murder, She Baked: A Plum Pudding Mystery', 'Blush', 'Psycho Prom Queen', 'Dementia 13', 'House of Purgatory', 'Clickbait', 'The Delinquent Season', 'Under the Eiffel Tower', 'Party Bus To Hell', 'Lies We Tell', 'Anthem of a Teenage Prophet', 'The Russian Bride', \"Who's Stalking Me?\", \"Once Upon a Winter's Date\", 'Crossbreed', 'Love in Design', 'Another Day of Life', 'Book of Monsters', 'Run the Race', 'Making Babies', 'Body at Brighton Rock', 'Ray & Liz', 'Mobile Homes', 'Marvel Rising: Chasing Ghosts', 'Sea of Shadows', 'Dolphin Kick', 'The Wrong Husband', 'Season for Love', \"The Way We Weren't\", 'Memory: The Origins of Alien', 'Alien Code', 'Every Time I Die', 'The Story of Us', 'Sometimes Always Never', 'The Grizzlies', 'Among the Shadows', 'SnowComing', 'Sister Aimee', 'Falling for You', 'Run This Town', 'Extracurricular Activities', \"Free Rein: Valentine's Day\", 'Angelica', 'Cuck', 'Wedding March 3: Here Comes the Bride', 'Ask Dr. Ruth', 'Ghoul', 'Love Is Blind', \"Winter's Dream\", 'Marianne & Leonard: Words of Love', 'Westwood: Punk, Icon, Activist', 'Emma Fielding Mysteries: More Bitter Than Death', \"A Sister's Obsession\", 'McKellen: Playing the Part', 'From Zero to I Love You', 'Bad Tutor', 'Seduced by My Neighbor', 'Signed, Sealed, Delivered: Home Again', 'Chronicle Mysteries: Recovered', 'The Revenge of Robert', 'Battle Hymn', 'Notes on Blindness', 'Fireman Sam: Set for Action!', 'The Unicorn', 'West of Hell', 'Greyhound Attack', 'Diane', 'Impossible Monsters', 'We Are Boats', 'Long Lost Daughter', \"Manson's Lost Girls\", 'The Great Buster: A Celebration', 'Moshi Monsters: The Movie', 'A Boy Called Sailboat', 'Love on the Menu', 'Heart of a Dog', 'Stray', 'ReMastered: Massacre at the Stadium', 'Unleashed', 'To the Stars', \"Victoria Gotti: My Father's Daughter\", 'All of My Heart: The Wedding', 'Trico Tri Happy Halloween', 'Atone', 'Death House', 'Horror Noire: A History of Black Horror', 'Maiden', 'Nothing Like a Dame', 'Chronicle Mysteries: The Wrong Man', '1st Born', 'Still', \"Where's My Roy Cohn?\", 'David Crosby: Remember My Name', 'The Last Tree', 'Love Under the Rainbow', 'Adam', 'Last Ferry', 'Her Dark Past', 'Screwball', 'Fear Bay', 'Princess of the Row', 'Paradox', 'Ken Jeong: You Complete Me, Ho', 'Ruby Herring Mysteries: Silent Witness', 'Jimmy Carr: The Best of Ultimate Gold Greatest Hits', 'Con Man', '7 Days to Vegas', 'The Legend of Cocaine Island', \"A Daughter's Revenge\", 'Top End Wedding', 'All These Small Moments', 'Give Me Liberty', 'Outlaws', 'Theresa & Allison', 'Killer Mom', \"Teddy Pendergrass: If You Don't Know Me\", 'Gabriel Iglesias: One Show Fits All', 'Interlude In Prague', 'The Satanic Nun', 'A Dog Called Money', 'Dirty John, The Dirty Truth', 'The Eyes of Orson Welles', \"She's Missing\", 'Ghosts of Sugar Land', 'Breaking Barbi', 'Long Lost', 'Ms. White Light', 'Death of a Cheerleader', 'Animals', 'Alien: Harvest', 'Inoperable', 'Fatal Beauty', 'Sebastian Maniscalco: Stay Hungry', \"Daddy's Girl\", 'Relaxer', 'Bohemian Rhapsody: Recreating Live Aid', 'The Dig', \"A Sister's Secret\", 'Julius Caesar', 'Nate Bargatze: The Tennessee Kid', 'Beneath The Leaves', 'Fourteen', 'Flashout', 'Nureyev', 'The Drone', 'SGT. Will Gardner', 'Human Nature', 'Unthinkable', 'The Highway Rat', 'Mickey and the Bear', 'Roll Red Roll', 'Cliffs of Freedom', \"Kevin Hart's Guide to Black History\", 'Go Back to China', 'The Least of These', 'The Mountain', 'The Siren', 'Tread', 'Living Space', 'Mope', 'Breakthrough', 'Pegasus: Pony With a Broken Wing', 'Suburban Swingers Club', 'Olympic Dreams', 'Porto', \"Garfield's Halloween Adventure\", 'What She Said: The Art of Pauline Kael', 'Buck Run', 'Girl/Girl Scene: The Movie', '24 Frames', 'Avenues', 'Sleeper', 'Fright Fest', 'Hoaxed', 'The Amazing Johnathan Documentary', 'Madonna and the Breakfast Club', 'Lionheart', 'The Wall of Mexico', 'Dirty God', 'To Dust', 'The Challenger Disaster', 'Something', 'The Christ Slayer', 'Anne', 'Kiss Kiss', 'Did I Kill My Mother?', 'Night Comes On', 'Door in the Woods', 'Kusama: Infinity', 'Wake Up', 'Char Man', 'Kill Thy Neighbor', 'Against the Night', 'Halston', 'Island of the Hungry Ghosts', 'Lemonade', 'Lost Holiday', 'Making Apes: The Artists Who Changed Film', 'Wonders of the Sea 3D', 'EGG', 'Running with Beto', 'Shooting the Mafia', 'Rockaway', 'Slasher Party', 'Pick of the Litter', 'The Way You Look Tonight', 'Hornet', 'Christmas Catch', 'Do Not Be Deceived', 'Depraved', 'The Killer Downstairs', 'Mike Wallace Is Here', 'Beyond the Night', 'Cradles for Cash', 'Wally Got Wasted', 'The Lighthouse', 'Canal Street', 'The Gift: The Journey of Johnny Cash', 'Tapestry', '2040', 'Babylon', 'Babysplitters', 'Ray Romano: Right Here, Around the Corner', 'Stars in the Sky: A Hunting Story', \"Don't Come Back from the Moon\", \"Santa's Little Helpers\", 'Into the Grand Canyon', 'Rams', 'Ham on Rye', 'Wedding March 2: Resorting to Love', 'Light from Light', 'Rag Doll', 'Penguins', 'Troll: The Tale of a Tail', 'The Directive', 'Drowning Echo', 'Loving Vincent: The Impossible Dream', 'The Lost Tomb of Alexander the Great', 'The Untold Story', 'The Ex Next Door', 'The Divorce Party', 'Last Call', 'Ella Fitzgerald - Just One of Those Things', \"Halloween at Aunt Ethel's\", 'The Demonologist', 'The Aspern Papers', 'Mr. Hockey: The Gordie Howe Story', 'Roswell: Mysteries Decoded', 'A Bread Factory: Part Two', 'Easy Does It', 'Real Cases of Shadow People: The Sarah McCormick Story', 'Curiosity: Life of A Mars Rover', 'Framed By My FiancÃ©', \"A Bride's Revenge\", 'The Body Remembers When the World Broke Open', 'Black Is Beltza', 'Red 11', \"Psychonautics: A Comic's Exploration of Psychedelics\", 'Holy Lands', 'Chronicle Mysteries: Vines that Bind', 'Xerxes - Berlin', 'Cassidy Red', 'Kalushi : The Story of Solomon Mahlangu', 'Narco Wars: In Their Own Words', 'The Boy Band Con: The Lou Pearlman Story', 'The Fight', 'The Haunting of Borley Rectory', 'Moon Knight', 'Crucible of the Vampire', 'Steam Room Stories: The Movie', 'Groupers', \"A Daughter's Deception\", 'Alien: Specimen', \"Mommy's Little Princess\", 'David Bowie: Finding Fame', 'House of Mortal Sin', 'The Secret Rules of Modern Living: Algorithms', 'Another Dirty Movie', 'The Venerable W.', 'The Man from Kathmandu', 'Sweet Inspirations', 'Alexis Viera: A Story of Surviving', 'Driven', 'T2: Reprogramming The Terminator', 'Into The Void', 'Christopher Titus: Amerigeddon', 'Electric Love', 'Pahokee', 'Who Will Write Our History?', 'Killer Night Shift', 'A Room Full of Nothing', '#Like', 'Varsity Punks', \"Going Deep Into the World of 'Aquaman'\", '1st Summoning', \"Amanda Seales: I Be Knowin'\", 'What Lies Ahead', 'Havana Darkness', 'I Am Richard Pryor', \"The Devil's Restaurant\", 'The Human Race', 'Antisocial 2', 'Top Knot Detective', \"My Daughter's Ransom\", 'Bite Me', 'Antiquities', 'Dreams', \"Deion's Double Play\", 'Pull', 'Ms. Purple', 'Deadly Match', 'Before You Know It', 'Seduced by a Killer', 'Northwood Pie', 'Genesis 2.0', '5G Apocalypse: The Extinction Event', 'Better Days', 'Fanatic', 'Garage Sale Mysteries: Picture a Murder', 'Abnormal Attraction', 'Point Man', 'One Red Nose Day and a Wedding', 'Goalie', 'Excursion', 'Late Afternoon', 'Gaza', 'Frances Ferguson', 'Red Dog', 'Iris: A Space Opera by Justice', 'Creep Nation', 'United Skates', 'Hudson', 'Love Shot', 'Her Worst Nightmare', 'Bill Tilghman and the Outlaws', 'Rosie', 'The Black Widow Killer', 'Twisted Pair', 'Ruthless! The Musical', 'Quanta', 'Saving My Baby', 'Pink Wall', 'Web of Lies', 'Arcadia', 'Letter from Masanjia', 'Loophole', 'Nose to Tail', 'Alien: Containment', 'The River and the Wall', 'Close Calls', 'Shut Up and Play the Piano', 'Most Disturbed Person On Planet Earth 3', 'HuracÃ¡n', 'Jellyfish', 'Girl Blood Sport', 'Amityville: Mt Misery Road', 'Night', 'So Pretty', 'A Fistful of Lead', 'A Violent Man', 'Rent-an-Elf', 'The Narcissists', 'Red Letter Day', 'The Pollinators', 'Premature', 'The Green Fog', 'Darkness Visible', 'Pretty Broken', 'Any One of Us', 'Jawline', 'Split Lip', 'Jump Shot: The Kenny Sailors Story', 'Acceptable Damage', 'Food Evolution', 'Sleeping Dogs Lie', 'The Bad Man', 'The Wedding March', 'Pogey Beach', \"If You're Gone\", 'American Relapse', 'The Social Ones', 'Cleavers: Killer Clowns', 'Make Me Up', 'Celeste', 'The Stew', 'World War Four', 'Bedlam', 'Splitting Image', 'Toni Morrison: The Pieces I Am', 'Cold Case HammarskjÃ¶ld', 'Eve Of Abduction', 'Millennium After the Millennium', 'Fly Like a Girl', 'The Beatles: Made on Merseyside', 'The Midnight Man', 'Firecrackers', 'Anna 2', \"It's a Hard Truth Ain't It\", 'Diana Kennedy: Nothing Fancy', 'Nearly Married', 'The Gandhi Murder', 'Johnny Gruesome', \"The Devil's Machine\", 'Water', 'Alien: Ore', 'One Nation Under Stress', 'Chasing Bullitt', 'Animator', 'Groomzilla', 'A Perfect Host', 'Autonomy', \"Three's Complicated\", 'The Outdoorsman', 'Garage Sale Mysteries: Murder In D Minor', 'Qualified', 'Perfect Skin', 'Monrovia, Indiana', 'My Daughter Was Stolen', 'Spriggan', 'Regionrat', 'Diving Deep: The Life and Times of Mike deGruy', 'Eye on Juliet', 'South Mountain', \"An Elephant's Journey\", 'Strike', 'Farmtastic Fun', 'Jezebel', 'The Many Lives of Nick Buoniconti', 'How to Be Alone', 'Nightmare Tenant', 'Fuck You All: The Uwe Boll Story', 'Blood Paradise', \"Creem: America's Only Rock 'n' Roll Magazine\", 'Red Rover', 'Alien Messiah', '93Queen', 'Tales from the Lodge', 'Talking About Trees', 'The Lift Boy', 'Twelve', 'Being Frank: The Chris Sievey Story', 'Fortune Defies Death', 'The Dog Days of Winter', 'Frazier Park Recut', 'The Inbetweeners: Fwends Reunited', 'Slender Man Stabbing: The Untold Story', 'Believe', 'The Price of Everything', \"Tone Bell - Can't Cancel This\", 'ReMastered: The Miami Showband Massacre', 'Ron Funches: Giggle Fit', 'The Luring', \"The Corporate Coup D'Ã‰tat\", 'Skin in the Game', 'The Piketon Family Murders', 'Ice Dragon: Legend of the Blue Daisies', 'Killer Reputation', 'When Vows Break', 'The Brink', 'Vampz!', \"Mother's Little Helpers\", 'Assholes: A Theory', 'A Tuba To Cuba', \"Best Friend's Betrayal\", 'Pig Hag', 'Easter Land', 'Sadistic Intentions', 'Incident at Montauk', 'Pearl', 'Soul Hunters', 'King of Crime', 'Passions of the Lost Idol', 'Jules of Light and Dark', 'The Last Survivors', 'Alien: Night Shift', 'The Last Days of JFK Jr.', 'Two Tribes', 'Trio', 'Oprah Winfrey Presents: After Neverland', 'Working Man', 'Confessional', 'PawParazzi', 'Azeem Banatwalla: Problems', 'Deep in Vogue', 'Coriolanus', 'I See You', '100 Vaginas', 'Digital Warriors - Women changing the world', 'Indecent Affairs of a Housewife', 'Straight Edge Kegger', 'Daffodils', 'Hal', 'Murder In-Law', 'As You Like It', 'Desire: The Short Films Of Ohm', 'Goldie', '5th of July', 'American Bistro', 'Kittie: Live at the London Music Hall', \"Charley Pride: I'm Just Me\", 'The Howling', 'April Jones: The Interrogation Tapes', 'Confessions of a Ladykiller', 'Always in Season', 'Kissing Candice', \"Dracula in a Women's Prison\", 'Rocky', 'Well Groomed', 'Apartment 413', 'Enormous: The Gorge Story', 'The Lost City Of Machu Picchu', 'Lost Angelas', 'Muffin Top: A Love Story', \"Hallmark Channel's 1st Annual Cat Bowl\", 'MS Slavic 7', 'Sea Monsters 2', 'The Garden Left Behind', 'The Ponds', 'Poised', 'Smothered by Mothers', 'Betsy', 'Vanilla', 'The Junk Food Experiment', 'Killer Therapy', 'Bluebird', 'Secondhand Hearts', 'DeadThirsty', 'Root Cause', 'The Perception', 'Trust Machine: The Story of Blockchain', 'Counterpunch', 'Donovan Reid', 'Cry for the Bad Man', 'A Name Without a Place', 'Deepwater Horizon: In Their Own Words', 'Kingdom', 'Dark Son: The Hunt for a Serial Killer', 'Bigfoot', 'Stay', 'Hunting Lands', 'Jordan', 'Funny Women of a Certain Age', 'A Dragon Adventure', 'Dark Lies the Island', 'Private Places', 'Easter Sing', 'Third Eye Spies', 'Scary Stories', 'Walking on Water', \"People's Republic of Desire\", 'The Unlikely Good Samaritan', 'Tales of Chinatown', 'War Path', 'It Started As a Joke', 'Merata: How Mum Decolonised the Screen', 'Take Me Somewhere Nice', 'Never Alone', 'Brainiac: Transmissions After Zero', 'House of the Gorgon', 'The Gospel According to AndrÃ©', \"Maybe I'm Fine\", 'Louis Theroux: The Night in Question', 'Prince Harming', 'True: Happy Hearts Day', 'Tigerland', 'Out of Sight, Out of Mind', 'Moonlight Sonata: Deafness in Three Movements', 'The Runaways', 'Letters from a Nut', 'We', 'Redoubt', 'Carl Laemmle', 'Sketchy Behaviour', 'Dead Body', 'A Self-Induced Hallucination', 'Raise Hell: The Life & Times of Molly Ivins', \"The Bozeman Trail: A Rush for Montana's Gold\", 'The Pining', 'Patterns of Evidence: The Moses Controversy', 'The Hottest August', 'Nowhere, Michigan', 'A Wakefield Project', 'The Portal', 'This Is Our Home', 'Burning Kentucky', \"I'd Like to Be Alone Now\", 'Serendipity', 'Inner Ghosts', 'Beneath the Trees', 'Prism', 'The Intent 2: The Come Up', 'Wade in the Water', 'WWE Halftime Heat 2019', \"Captain Hagen's Bed & Breakfast\", \"Nation's Fire\", 'Silence & Darkness', 'Land', 'Boogaloo Shrimp Documentary', 'A Second Chance', 'UFC Fight Night 145: BÅ‚achowicz vs. Santos', \"Romeo and Juliet - Live at Shakespeare's Globe\", 'Sew the Winter to My Skin', 'BTK: A Killer Among Us', \"Jobe'z World\", 'Our Nature', 'Seam', 'The Law of Tehran', 'Joseph Pulitzer: Voice of the People', 'On Her Shoulders', 'Lavender', 'Marjoun and the Flying Headscarf', 'Balloon', 'The Need to Grow', 'White Noise', 'The Infiltrators', 'SEED: The Untold Story', 'America', 'Acts of Desperation', 'Lucky', 'Double Echo', 'Horizon', 'Lupe', 'Scotch: A Golden Dream', 'We Used to Know Each Other', 'West of Sunshine', 'Destination: Dewsbury', 'Nothing Really Happens', 'Flesh City', 'The Glorious Seven', \"My Mother's Split Personalities\", 'Secrets of the Royal Servants', 'Sever', 'Stronger Than a Bullet', 'Aretha! A Grammy Celebration for the Queen of Soul', 'James Davis: Live from the Town', 'Collisions', 'Kathryn Upside Down', 'Seattle is Dying', 'St. Louis Superman', 'The Shoplifters', 'Creature from Cannibal Creek', 'The 2019 Rose Parade with Cord & Tish', 'Zero Hour', \"Sammy Davis, Jr.: I've Gotta Be Me\", 'Low Low', 'Superpower Dogs', 'Sam and Elvis', 'To Plant a Flag', 'BRUCE!!!', 'Reflections in the Dust', 'Dust', \"The Devil's Lettuce 2: Edible Evil\", 'All the Little Things We Kill', 'Redeeming The Time', 'Hippolyte et Aricie', 'Victoria & Albert: The Royal Wedding', 'Surprise', 'Oildale', 'Equal Playing Field', 'While I Breathe, I Hope', 'Born2Race', 'Code Blue: Redefining the Practice of Medicine', 'Aberdeen', 'Decoding the Great Pyramid', 'The Plagiarists', 'My Friend the Polish Girl', \"Showdown at Shelby's Shack\", 'Kaye Ballard - The Show Goes On!', 'BublÃ©!', 'The Overcoat', 'Junk Love', \"The House Is Alive: Constructing 'Crimson Peak'\", '4th Republic', 'Romantic Comedy', 'WWE Worlds Collide', 'July Rising', 'Inventing Tomorrow', 'Bryan Callen: Complicated Apes', 'Diet Fiction', 'El Duende', 'Farmlands', 'Deprivation', 'Cleft Lip', 'The Deminer', 'The Generator', 'Tangent Room', 'Helsreach', 'Burning Men', 'Doctor Who: Resolution', 'Almost Human', 'Dublin Oldschool', 'No Data Plan', 'Stressed', 'Between the Darkness', 'Soft Cell: Say Hello, Wave Goodbye', 'See', 'Stay Awesome, China!', 'The Green Lie', 'Alien: Alone', 'Grace and Goliath', 'Tom and Grant', 'Sin City', 'Desolation Center', 'My Online Valentine', \"Mr. Malcolm's List\", 'Roy Wood Jr.: No One Loves You', 'Camp Wedding', 'Monsterland 2', 'Cecil', 'The Combination Redemption', 'Dark Image', \"WWE: World's Strongest Man: The Mark Henry Story\", 'Slave to the Grind', 'Michael Inside', 'Blood Bound', 'Enhanced', 'HERO Inspired by the Extraordinary Life & Times of Mr. Ulric Cross', 'The Shipment', 'Groundhog Dave', 'Spiral Farm', 'Beers of Joy', 'Holly Near: Singing for Our Lives', 'Stuffed', 'Float Like a Butterfly', 'The One You Never Forget', 'Bernie Madoff: In His Own Words', 'Swarm Season', 'Parkland: Inside Building 12', 'Living the Stream', 'The Automaton', 'Junkie', 'Confessions from Space: Apollo', 'Enemies of Women', 'Panodrama', 'Mariah: The Diva, The Demons, The Drama', 'The Rolling Stones: Bridges to Bremen', 'RiffTrax Live: Day of the Shorts: SF Sketchfest 2019', \"KRFT PUNK'S Political Party!\", 'The Kennedy Who Changed The World', 'The Escort', 'Questions', 'The Bruce McMouse Show', 'Room 37 - The Mysterious Death of Johnny Thunders', 'Diggerz: Black Lung Rises', 'LiVE SPiRiTS Depeche Mode At The WaldbÃ¼hne', 'One Against the House', 'Strange Negotiations', 'In the Life of Music', 'Swell', 'Light in the Water', 'Painkillers', 'Guest Artist', 'Stiv', 'The Killer Clown Meets the Candy Man', 'ABBA: Super Troupe']\n"
     ]
    }
   ],
   "source": [
    "print(titles_1)"
   ]
  },
  {
   "cell_type": "code",
   "execution_count": 14,
   "id": "93b34ec2",
   "metadata": {},
   "outputs": [
    {
     "name": "stdout",
     "output_type": "stream",
     "text": [
      "0 not found\n",
      "Creed II not found\n",
      "Shazam! not found\n",
      "Harry Potter and the Chamber of Secrets not found\n",
      "Spider-Man: Into the Spider-Verse not found\n",
      "The Hunger Games: Mockingjay - Part 1 not found\n",
      "Boyka: Undisputed IV not found\n",
      "How to Train Your Dragon: The Hidden World not found\n",
      "Deadpool 2 not found\n",
      "Pacific Rim not found\n",
      "Alita: Battle Angel not found\n",
      "Terminator Genisys not found\n",
      "Venom not found\n",
      "Incredibles 2 not found\n",
      "The Nun not found\n",
      "Batman v Superman: Dawn of Justice not found\n",
      "Spirit: Stallion of the Cimarron not found\n",
      "The Hunger Games: Catching Fire not found\n",
      "How to Train Your Dragon 2 not found\n",
      "The Equalizer 2 not found\n",
      "Sing not found\n",
      "Transformers: The Last Knight not found\n",
      "Joseph: King of Dreams not found\n",
      "The Curse of La Llorona not found\n",
      "Ralph Breaks the Internet not found\n",
      "The Prince of Egypt not found\n",
      "Split not found\n",
      "Kung Fu Panda 3 not found\n",
      "The Great Wall not found\n",
      "Radius not found\n",
      "Aquaman not found\n",
      "Hotel Transylvania 3: Summer Vacation not found\n",
      "Alien not found\n"
     ]
    },
    {
     "ename": "JSONDecodeError",
     "evalue": "Invalid control character at: line 1 column 56 (char 55)",
     "output_type": "error",
     "traceback": [
      "\u001b[1;31m---------------------------------------------------------------------------\u001b[0m",
      "\u001b[1;31mJSONDecodeError\u001b[0m                           Traceback (most recent call last)",
      "\u001b[1;32m~\\anaconda3\\lib\\site-packages\\requests\\models.py\u001b[0m in \u001b[0;36mjson\u001b[1;34m(self, **kwargs)\u001b[0m\n\u001b[0;32m    970\u001b[0m         \u001b[1;32mtry\u001b[0m\u001b[1;33m:\u001b[0m\u001b[1;33m\u001b[0m\u001b[1;33m\u001b[0m\u001b[0m\n\u001b[1;32m--> 971\u001b[1;33m             \u001b[1;32mreturn\u001b[0m \u001b[0mcomplexjson\u001b[0m\u001b[1;33m.\u001b[0m\u001b[0mloads\u001b[0m\u001b[1;33m(\u001b[0m\u001b[0mself\u001b[0m\u001b[1;33m.\u001b[0m\u001b[0mtext\u001b[0m\u001b[1;33m,\u001b[0m \u001b[1;33m**\u001b[0m\u001b[0mkwargs\u001b[0m\u001b[1;33m)\u001b[0m\u001b[1;33m\u001b[0m\u001b[1;33m\u001b[0m\u001b[0m\n\u001b[0m\u001b[0;32m    972\u001b[0m         \u001b[1;32mexcept\u001b[0m \u001b[0mJSONDecodeError\u001b[0m \u001b[1;32mas\u001b[0m \u001b[0me\u001b[0m\u001b[1;33m:\u001b[0m\u001b[1;33m\u001b[0m\u001b[1;33m\u001b[0m\u001b[0m\n",
      "\u001b[1;32m~\\anaconda3\\lib\\json\\__init__.py\u001b[0m in \u001b[0;36mloads\u001b[1;34m(s, cls, object_hook, parse_float, parse_int, parse_constant, object_pairs_hook, **kw)\u001b[0m\n\u001b[0;32m    345\u001b[0m             parse_constant is None and object_pairs_hook is None and not kw):\n\u001b[1;32m--> 346\u001b[1;33m         \u001b[1;32mreturn\u001b[0m \u001b[0m_default_decoder\u001b[0m\u001b[1;33m.\u001b[0m\u001b[0mdecode\u001b[0m\u001b[1;33m(\u001b[0m\u001b[0ms\u001b[0m\u001b[1;33m)\u001b[0m\u001b[1;33m\u001b[0m\u001b[1;33m\u001b[0m\u001b[0m\n\u001b[0m\u001b[0;32m    347\u001b[0m     \u001b[1;32mif\u001b[0m \u001b[0mcls\u001b[0m \u001b[1;32mis\u001b[0m \u001b[1;32mNone\u001b[0m\u001b[1;33m:\u001b[0m\u001b[1;33m\u001b[0m\u001b[1;33m\u001b[0m\u001b[0m\n",
      "\u001b[1;32m~\\anaconda3\\lib\\json\\decoder.py\u001b[0m in \u001b[0;36mdecode\u001b[1;34m(self, s, _w)\u001b[0m\n\u001b[0;32m    336\u001b[0m         \"\"\"\n\u001b[1;32m--> 337\u001b[1;33m         \u001b[0mobj\u001b[0m\u001b[1;33m,\u001b[0m \u001b[0mend\u001b[0m \u001b[1;33m=\u001b[0m \u001b[0mself\u001b[0m\u001b[1;33m.\u001b[0m\u001b[0mraw_decode\u001b[0m\u001b[1;33m(\u001b[0m\u001b[0ms\u001b[0m\u001b[1;33m,\u001b[0m \u001b[0midx\u001b[0m\u001b[1;33m=\u001b[0m\u001b[0m_w\u001b[0m\u001b[1;33m(\u001b[0m\u001b[0ms\u001b[0m\u001b[1;33m,\u001b[0m \u001b[1;36m0\u001b[0m\u001b[1;33m)\u001b[0m\u001b[1;33m.\u001b[0m\u001b[0mend\u001b[0m\u001b[1;33m(\u001b[0m\u001b[1;33m)\u001b[0m\u001b[1;33m)\u001b[0m\u001b[1;33m\u001b[0m\u001b[1;33m\u001b[0m\u001b[0m\n\u001b[0m\u001b[0;32m    338\u001b[0m         \u001b[0mend\u001b[0m \u001b[1;33m=\u001b[0m \u001b[0m_w\u001b[0m\u001b[1;33m(\u001b[0m\u001b[0ms\u001b[0m\u001b[1;33m,\u001b[0m \u001b[0mend\u001b[0m\u001b[1;33m)\u001b[0m\u001b[1;33m.\u001b[0m\u001b[0mend\u001b[0m\u001b[1;33m(\u001b[0m\u001b[1;33m)\u001b[0m\u001b[1;33m\u001b[0m\u001b[1;33m\u001b[0m\u001b[0m\n",
      "\u001b[1;32m~\\anaconda3\\lib\\json\\decoder.py\u001b[0m in \u001b[0;36mraw_decode\u001b[1;34m(self, s, idx)\u001b[0m\n\u001b[0;32m    352\u001b[0m         \u001b[1;32mtry\u001b[0m\u001b[1;33m:\u001b[0m\u001b[1;33m\u001b[0m\u001b[1;33m\u001b[0m\u001b[0m\n\u001b[1;32m--> 353\u001b[1;33m             \u001b[0mobj\u001b[0m\u001b[1;33m,\u001b[0m \u001b[0mend\u001b[0m \u001b[1;33m=\u001b[0m \u001b[0mself\u001b[0m\u001b[1;33m.\u001b[0m\u001b[0mscan_once\u001b[0m\u001b[1;33m(\u001b[0m\u001b[0ms\u001b[0m\u001b[1;33m,\u001b[0m \u001b[0midx\u001b[0m\u001b[1;33m)\u001b[0m\u001b[1;33m\u001b[0m\u001b[1;33m\u001b[0m\u001b[0m\n\u001b[0m\u001b[0;32m    354\u001b[0m         \u001b[1;32mexcept\u001b[0m \u001b[0mStopIteration\u001b[0m \u001b[1;32mas\u001b[0m \u001b[0merr\u001b[0m\u001b[1;33m:\u001b[0m\u001b[1;33m\u001b[0m\u001b[1;33m\u001b[0m\u001b[0m\n",
      "\u001b[1;31mJSONDecodeError\u001b[0m: Invalid control character at: line 1 column 56 (char 55)",
      "\nDuring handling of the above exception, another exception occurred:\n",
      "\u001b[1;31mJSONDecodeError\u001b[0m                           Traceback (most recent call last)",
      "\u001b[1;32m~\\AppData\\Local\\Temp\\ipykernel_36720\\304871632.py\u001b[0m in \u001b[0;36m<module>\u001b[1;34m\u001b[0m\n\u001b[0;32m      2\u001b[0m \u001b[1;32mfor\u001b[0m \u001b[0mmovie\u001b[0m \u001b[1;32min\u001b[0m \u001b[0mtitles_1\u001b[0m\u001b[1;33m:\u001b[0m\u001b[1;33m\u001b[0m\u001b[1;33m\u001b[0m\u001b[0m\n\u001b[0;32m      3\u001b[0m     \u001b[0mtime\u001b[0m\u001b[1;33m.\u001b[0m\u001b[0msleep\u001b[0m\u001b[1;33m(\u001b[0m\u001b[1;36m2\u001b[0m\u001b[1;33m)\u001b[0m\u001b[1;33m\u001b[0m\u001b[1;33m\u001b[0m\u001b[0m\n\u001b[1;32m----> 4\u001b[1;33m     \u001b[0mmovie_data\u001b[0m \u001b[1;33m=\u001b[0m \u001b[0mrequests\u001b[0m\u001b[1;33m.\u001b[0m\u001b[0mget\u001b[0m\u001b[1;33m(\u001b[0m\u001b[1;34m\"http://www.omdbapi.com/?apikey=b8890086\"\u001b[0m\u001b[1;33m+\u001b[0m \u001b[0mmovie\u001b[0m\u001b[1;33m)\u001b[0m\u001b[1;33m.\u001b[0m\u001b[0mjson\u001b[0m\u001b[1;33m(\u001b[0m\u001b[1;33m)\u001b[0m\u001b[1;33m\u001b[0m\u001b[1;33m\u001b[0m\u001b[0m\n\u001b[0m\u001b[0;32m      5\u001b[0m \u001b[1;33m\u001b[0m\u001b[0m\n\u001b[0;32m      6\u001b[0m     \u001b[1;32mtry\u001b[0m\u001b[1;33m:\u001b[0m\u001b[1;33m\u001b[0m\u001b[1;33m\u001b[0m\u001b[0m\n",
      "\u001b[1;32m~\\anaconda3\\lib\\site-packages\\requests\\models.py\u001b[0m in \u001b[0;36mjson\u001b[1;34m(self, **kwargs)\u001b[0m\n\u001b[0;32m    973\u001b[0m             \u001b[1;31m# Catch JSON-related errors and raise as requests.JSONDecodeError\u001b[0m\u001b[1;33m\u001b[0m\u001b[1;33m\u001b[0m\u001b[0m\n\u001b[0;32m    974\u001b[0m             \u001b[1;31m# This aliases json.JSONDecodeError and simplejson.JSONDecodeError\u001b[0m\u001b[1;33m\u001b[0m\u001b[1;33m\u001b[0m\u001b[0m\n\u001b[1;32m--> 975\u001b[1;33m             \u001b[1;32mraise\u001b[0m \u001b[0mRequestsJSONDecodeError\u001b[0m\u001b[1;33m(\u001b[0m\u001b[0me\u001b[0m\u001b[1;33m.\u001b[0m\u001b[0mmsg\u001b[0m\u001b[1;33m,\u001b[0m \u001b[0me\u001b[0m\u001b[1;33m.\u001b[0m\u001b[0mdoc\u001b[0m\u001b[1;33m,\u001b[0m \u001b[0me\u001b[0m\u001b[1;33m.\u001b[0m\u001b[0mpos\u001b[0m\u001b[1;33m)\u001b[0m\u001b[1;33m\u001b[0m\u001b[1;33m\u001b[0m\u001b[0m\n\u001b[0m\u001b[0;32m    976\u001b[0m \u001b[1;33m\u001b[0m\u001b[0m\n\u001b[0;32m    977\u001b[0m     \u001b[1;33m@\u001b[0m\u001b[0mproperty\u001b[0m\u001b[1;33m\u001b[0m\u001b[1;33m\u001b[0m\u001b[0m\n",
      "\u001b[1;31mJSONDecodeError\u001b[0m: Invalid control character at: line 1 column 56 (char 55)"
     ]
    }
   ],
   "source": [
    "# Make a request to the OMDb API for each movie in the list.\n",
    "for movie in titles_1:\n",
    "    time.sleep(2)\n",
    "    movie_data = requests.get(\"http://www.omdbapi.com/?apikey=b8890086\"+ movie).json()\n",
    "    \n",
    "    try:\n",
    "        mscore = movie_data[\"Metascore\"]\n",
    "        iscore = movie_data[\"imdbRating\"]\n",
    "        rot = float(movie_data[\"Ratings\"][1][\"Value\"].replace('%',''))\n",
    "        boffice = int((movie_data[\"BoxOffice\"].replace('$', '')).replace(',', ''))\n",
    "        print(\"---------------------\")\n",
    "        meta_score.append(mscore)\n",
    "        imdb_score.append(iscore)\n",
    "        boxoffice.append(boffice)\n",
    "        rot_score.append(rot)\n",
    "    except:\n",
    "        print(f\"{movie} not found\")\n",
    "        #print(\"---------------------\")\n",
    "        not_found.append(movie)\n",
    "        pass"
   ]
  },
  {
   "cell_type": "code",
   "execution_count": null,
   "id": "09e48b5b",
   "metadata": {},
   "outputs": [],
   "source": [
    "len(not_found)"
   ]
  },
  {
   "cell_type": "code",
   "execution_count": null,
   "id": "41d2a6fa",
   "metadata": {},
   "outputs": [],
   "source": [
    "pd.Series(meta_score).to_csv('meta_score_1.csv')\n",
    "pd.Series(imdb_score).to_csv('imdb_score_1.csv')\n",
    "pd.Series(rot_score).to_csv('rot_score_1.csv')\n",
    "pd.Series(boxoffice).to_csv('boxoffice_1.csv')"
   ]
  },
  {
   "cell_type": "code",
   "execution_count": null,
   "id": "9c0a27dd",
   "metadata": {},
   "outputs": [],
   "source": []
  }
 ],
 "metadata": {
  "kernelspec": {
   "display_name": "Python 3 (ipykernel)",
   "language": "python",
   "name": "python3"
  },
  "language_info": {
   "codemirror_mode": {
    "name": "ipython",
    "version": 3
   },
   "file_extension": ".py",
   "mimetype": "text/x-python",
   "name": "python",
   "nbconvert_exporter": "python",
   "pygments_lexer": "ipython3",
   "version": "3.9.13"
  }
 },
 "nbformat": 4,
 "nbformat_minor": 5
}
