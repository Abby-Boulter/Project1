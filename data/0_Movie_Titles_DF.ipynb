{
 "cells": [
  {
   "cell_type": "code",
   "execution_count": 7,
   "id": "062c41b7",
   "metadata": {},
   "outputs": [],
   "source": [
    "import pandas as pd"
   ]
  },
  {
   "cell_type": "code",
   "execution_count": 17,
   "id": "1f521d2b",
   "metadata": {},
   "outputs": [],
   "source": [
    "movie_titles_2018 = \"movie_title_2018.csv\"\n",
    "movie_titles_2019 = \"movie_title_2019.csv\"\n",
    "movie_titles_2020 = \"movie_title_2020.csv\"\n",
    "movie_titles_2021 = \"movie_title_2021.csv\"\n",
    "movie_titles_2022 = \"movie_title_2022.csv\""
   ]
  },
  {
   "cell_type": "code",
   "execution_count": 20,
   "id": "44d21fad",
   "metadata": {},
   "outputs": [],
   "source": [
    "movie_2018_df = pd.read_csv(movie_titles_2018)\n",
    "movie_2019_df = pd.read_csv(movie_titles_2019)\n",
    "movie_2020_df = pd.read_csv(movie_titles_2020)\n",
    "movie_2021_df = pd.read_csv(movie_titles_2021)\n",
    "movie_2022_df = pd.read_csv(movie_titles_2022)"
   ]
  },
  {
   "cell_type": "code",
   "execution_count": 21,
   "id": "7aab937c",
   "metadata": {},
   "outputs": [
    {
     "data": {
      "text/html": [
       "<div>\n",
       "<style scoped>\n",
       "    .dataframe tbody tr th:only-of-type {\n",
       "        vertical-align: middle;\n",
       "    }\n",
       "\n",
       "    .dataframe tbody tr th {\n",
       "        vertical-align: top;\n",
       "    }\n",
       "\n",
       "    .dataframe thead th {\n",
       "        text-align: right;\n",
       "    }\n",
       "</style>\n",
       "<table border=\"1\" class=\"dataframe\">\n",
       "  <thead>\n",
       "    <tr style=\"text-align: right;\">\n",
       "      <th></th>\n",
       "      <th>Unnamed: 0</th>\n",
       "      <th>0</th>\n",
       "    </tr>\n",
       "  </thead>\n",
       "  <tbody>\n",
       "    <tr>\n",
       "      <th>0</th>\n",
       "      <td>0</td>\n",
       "      <td>Avatar: The Way of Water</td>\n",
       "    </tr>\n",
       "    <tr>\n",
       "      <th>1</th>\n",
       "      <td>1</td>\n",
       "      <td>Supercell</td>\n",
       "    </tr>\n",
       "    <tr>\n",
       "      <th>2</th>\n",
       "      <td>2</td>\n",
       "      <td>Puss in Boots: The Last Wish</td>\n",
       "    </tr>\n",
       "    <tr>\n",
       "      <th>3</th>\n",
       "      <td>3</td>\n",
       "      <td>Attack on Titan</td>\n",
       "    </tr>\n",
       "    <tr>\n",
       "      <th>4</th>\n",
       "      <td>4</td>\n",
       "      <td>Prizefighter: The Life of Jem Belcher</td>\n",
       "    </tr>\n",
       "  </tbody>\n",
       "</table>\n",
       "</div>"
      ],
      "text/plain": [
       "   Unnamed: 0                                      0\n",
       "0           0               Avatar: The Way of Water\n",
       "1           1                              Supercell\n",
       "2           2           Puss in Boots: The Last Wish\n",
       "3           3                        Attack on Titan\n",
       "4           4  Prizefighter: The Life of Jem Belcher"
      ]
     },
     "execution_count": 21,
     "metadata": {},
     "output_type": "execute_result"
    }
   ],
   "source": []
  },
  {
   "cell_type": "code",
   "execution_count": null,
   "id": "f8f81742",
   "metadata": {},
   "outputs": [],
   "source": []
  }
 ],
 "metadata": {
  "kernelspec": {
   "display_name": "Python 3 (ipykernel)",
   "language": "python",
   "name": "python3"
  },
  "language_info": {
   "codemirror_mode": {
    "name": "ipython",
    "version": 3
   },
   "file_extension": ".py",
   "mimetype": "text/x-python",
   "name": "python",
   "nbconvert_exporter": "python",
   "pygments_lexer": "ipython3",
   "version": "3.9.13"
  }
 },
 "nbformat": 4,
 "nbformat_minor": 5
}
