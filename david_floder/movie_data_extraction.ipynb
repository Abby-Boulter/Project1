{
 "cells": [
  {
   "cell_type": "code",
   "execution_count": 15,
   "id": "caae4dba",
   "metadata": {},
   "outputs": [
    {
     "name": "stdout",
     "output_type": "stream",
     "text": [
      "['Aliens', 'Sing', 'Moana', 'John Wick: chapter 2']\n",
      "['Action, Adventure, Sci-Fi', 'Animation, Comedy, Family', 'Animation, Adventure, Comedy', 'Action, Crime, Thriller']\n",
      "['84', '59', '81', '75']\n",
      "['8.4', '7.1', '7.6', '7.4']\n",
      "['$85,160,248', '$270,578,425', '$248,757,044', '$92,029,184']\n"
     ]
    }
   ],
   "source": [
    "# Dependencies\n",
    "import requests\n",
    "api_key = \"f14b5199\"\n",
    "\n",
    "url = \"http://www.omdbapi.com/?apikey=\" + api_key + \"&t=\"\n",
    "\n",
    "movies = [\"Aliens\", \"Sing\", \"Moana\",\"John Wick: chapter 2\"]\n",
    "\n",
    "responses = []\n",
    "meta_score = []\n",
    "imdb_score = []\n",
    "boxoffice = []\n",
    "genre = []\n",
    "\n",
    "# Make a request to the OMDb API for each movie in the list.\n",
    "for movie in movies:\n",
    "    movie_data = requests.get(url + movie).json()\n",
    "    mscore = movie_data[\"Metascore\"]\n",
    "    iscore = movie_data[\"imdbRating\"]\n",
    "    boffice = movie_data[\"BoxOffice\"]\n",
    "    mtype = movie_data[\"Genre\"]\n",
    "    meta_score.append(mscore)\n",
    "    imdb_score.append(iscore)\n",
    "    boxoffice.append(boffice)\n",
    "    genre.append(mtype)\n",
    "    \n",
    "   \n",
    "print(movies)\n",
    "print(genre)\n",
    "print(meta_score)\n",
    "print(imdb_score)\n",
    "print(boxoffice)"
   ]
  },
  {
   "cell_type": "code",
   "execution_count": null,
   "id": "69c03498",
   "metadata": {},
   "outputs": [],
   "source": []
  },
  {
   "cell_type": "code",
   "execution_count": null,
   "id": "db3b2c3b",
   "metadata": {},
   "outputs": [],
   "source": []
  }
 ],
 "metadata": {
  "kernelspec": {
   "display_name": "Python 3 (ipykernel)",
   "language": "python",
   "name": "python3"
  },
  "language_info": {
   "codemirror_mode": {
    "name": "ipython",
    "version": 3
   },
   "file_extension": ".py",
   "mimetype": "text/x-python",
   "name": "python",
   "nbconvert_exporter": "python",
   "pygments_lexer": "ipython3",
   "version": "3.9.13"
  }
 },
 "nbformat": 4,
 "nbformat_minor": 5
}
